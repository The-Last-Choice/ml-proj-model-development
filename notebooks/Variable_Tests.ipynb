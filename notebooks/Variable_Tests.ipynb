{
 "cells": [
  {
   "cell_type": "code",
   "execution_count": 136,
   "id": "b7b6cd17-026a-4d5d-ae3c-006d06f3d6ad",
   "metadata": {},
   "outputs": [],
   "source": [
    "import pandas as pd\n",
    "import seaborn as sns\n",
    "import numpy as np\n",
    "import plotly.express as px\n",
    "from matplotlib import pyplot as plt\n",
    "%matplotlib inline\n",
    "import itertools"
   ]
  },
  {
   "cell_type": "code",
   "execution_count": 138,
   "id": "3d2a9775-5de1-428b-a7d5-ecb817fa2416",
   "metadata": {},
   "outputs": [],
   "source": [
    "#file_path =  r\"C:\\Users\\isabela.ribeiro\\Desktop\\cybersecurity_filtered.csv\"\n",
    "file_path = r\"C:\\Users\\isabela.ribeiro\\Desktop\\cybersecurity_attacks.csv\""
   ]
  },
  {
   "cell_type": "code",
   "execution_count": 140,
   "id": "bc607b69-d2ac-410f-8731-d63bcb14d696",
   "metadata": {},
   "outputs": [],
   "source": [
    "df = pd.read_csv(file_path)"
   ]
  },
  {
   "cell_type": "raw",
   "id": "9ae104ef-9836-4938-8051-6c5497e0f1dc",
   "metadata": {},
   "source": [
    "GOAL: GENERATE ALL POSSIBLE COMBINATIONS BETWEEN VARIABLES"
   ]
  },
  {
   "cell_type": "raw",
   "id": "30d05ad0-7dcd-43bb-ba6b-d91f39348d44",
   "metadata": {},
   "source": [
    "## DEFINITION OF POSSIBLE VALUES TO ALERT VARIABLES ##\n",
    "\n",
    "firewall = [True, False]\n",
    "ids_ips = [True, False]\n",
    "ioc = [True, False]\n",
    "alert_warning = [True, False]\n",
    "proxy_hidden = [True, False]\n",
    "\n",
    "## (POSSIBLE) RANGES TO VARIABLES ##\n",
    "packet_length_range = [\"< 64\", \"65 - 100\", \"101 - 400\", \"5000 to 10000\"]\n",
    "source_port_range = [\"< 1000\", \"1000 to 5000\", \"5000 to 10000\"]\n",
    "destination_port_range = [\"< 1000\", \"1000 to 5000\", \"5000 to 10000\"]\n",
    "\n",
    "## CATEGORIZATION\n",
    "anomaly_score_range = [\"Low\", \"Medium\", \"High\"]\n",
    "Attack Type = [\"Malware\", \"DDoS\", \"Intrusion\"] "
   ]
  },
  {
   "cell_type": "code",
   "execution_count": null,
   "id": "982fc41a-4eb6-4533-89cb-689fac213212",
   "metadata": {},
   "outputs": [],
   "source": [
    "# Criando colunas booleanas\n",
    "df[\"Firewall Logs Status\"] = df[\"Firewall Logs\"].apply(lambda x: True if x == \"Log Data\" else False)\n",
    "df[\"IDS/IPS Alerts Status\"] = df[\"IDS/IPS Alerts\"].apply(lambda x: True if x == \"Alert Data\" else False)\n",
    "df[\"Malware Indicators Status\"] = df[\"Malware Indicators\"].apply(lambda x: True if x == \"IoC Detected\" else False)\n",
    "df[\"Alerts/Warnings Status\"] = df[\"Alerts/Warnings\"].apply(lambda x: True if x == \"Alert Triggered\" else False)\n",
    "df[\"Proxy Status\"] = df[\"Proxy Information\"].apply(lambda x: True if x == \"Hidden\" else False)\n",
    "\n",
    "# Criando colunas de range - usando df e não cybersecurity_attacks\n",
    "df['_Destination_Port_Range'] = df['Destination Port'].apply(\n",
    "     lambda value: \"< 1.000\" if value < 1000 else \n",
    "                   \"1.000 to 5.000\" if 1000 <= value < 5000 else \n",
    "                   \"5.000 to 10.000\" if 5000 <= value < 10000 else \n",
    "                   \"10.000 to 20.000\" if 10000 <= value < 20000 else \n",
    "                   \"20.000 to 30.000\" if 20000 <= value < 30000 else \n",
    "                   \"30.000 to 40.000\" if 30000 <= value < 40000 else \n",
    "                   \"40.000 to 50.000\" if 40000 <= value < 50000 else \n",
    "                   \"50.000 to 60.000\" if 50000 <= value < 60000 else \n",
    "                   \"60.000 to 70.000\" if 60000 <= value <= 70000 else \n",
    "                   \"Above 70.000\"\n",
    " )\n",
    "\n",
    "df['_Source_Port_Range'] = df['Source Port'].apply(\n",
    "     lambda value: \"< 1.000\" if value < 1000 else \n",
    "                   \"1.000 to 5.000\" if 1000 <= value < 5000 else \n",
    "                   \"5.000 to 10.000\" if 5000 <= value < 10000 else \n",
    "                   \"10.000 to 20.000\" if 10000 <= value < 20000 else \n",
    "                   \"20.000 to 30.000\" if 20000 <= value < 30000 else \n",
    "                   \"30.000 to 40.000\" if 30000 <= value < 40000 else \n",
    "                   \"40.000 to 50.000\" if 40000 <= value < 50000 else \n",
    "                   \"50.000 to 60.000\" if 50000 <= value < 60000 else \n",
    "                   \"60.000 to 70.000\" if 60000 <= value <= 70000 else \n",
    "                   \"Above 70.000\"\n",
    " )\n",
    "\n",
    "## SHOULD I DO LESS RANGES BASED ON STATISTICS?\n",
    "\n",
    "df['_Packet_Length_Range'] = df['Packet Length'].apply(\n",
    "    lambda value: \"Small\" if value <= 420 else \n",
    "                  \"Medium\" if value <= 782 else \n",
    "                  \"Large\" if value <= 1143 else \n",
    "                  \"Very Large\"\n",
    ")\n",
    "# \"Small (≤ 420)\" if value <= 420 else \n",
    "# \"Medium (421 - 782)\" if value <= 782 else \n",
    "# \"Large (783 - 1143)\" if value <= 1143 else \n",
    "# \"Very Large (1144 - 1500)\"\n",
    "  ## BASED IN: \n",
    "# df['Packet Length'].describe()\n",
    "# mean       781.452725 \n",
    "# std        416.044192\n",
    "# min         64.000000\n",
    "# 25%        420.000000\n",
    "# 50%        782.000000\n",
    "# 75%       1143.000000\n",
    "# max       1500.000000\n",
    "\n",
    "df['_Packet_Length_Range'] = df['Packet Length'].apply(\n",
    "    lambda value: \"Small\" if value <= 420 else \n",
    "                  \"Medium\" if value <= 782 else \n",
    "                  \"Large\" if value <= 1143 else \n",
    "                  \"Very Large\"\n",
    "\n",
    "df[\"Anomaly_Score_Range\"] = df[\"Anomaly Scores\"].apply(\n",
    "    lambda x: \"Low\" if x <= 25.15 else\n",
    "              \"Medium\" if x <= 50.34 else\n",
    "              \"High\" if x <= 75.03 else\n",
    "              \"Critical\"\n",
    ")\n",
    "\n",
    "# \"Low (0-25)\" if x <= 25.15 else\n",
    "# \"Medium (25-50)\" if x <= 50.34 else\n",
    "# \"High (50-75)\" if x <= 75.03 else\n",
    "# \"Critical (75-100)\"\n",
    "  ## BASED IN:\n",
    "# df['Anomaly Scores'].describe()\n",
    "# count    40000.000000\n",
    "# mean        50.113473\n",
    "# std         28.853598\n",
    "# min          0.000000\n",
    "# 25%         25.150000\n",
    "# 50%         50.345000\n",
    "# 75%         75.030000\n",
    "# max        100.000000\n",
    "\n",
    "# Verificando se as colunas foram criadas corretamente\n",
    "df\n",
    "\n",
    "## print(cybersecurity_attacks)\n",
    "## PENSAR EM COMO DEIXAR ISSO MAIS DINAMICO, DEPOIS!\n",
    "## Need to be together or it will not save"
   ]
  },
  {
   "cell_type": "code",
   "execution_count": null,
   "id": "b7399d2b-f2ba-44a8-b0a3-8bb77a5e719d",
   "metadata": {},
   "outputs": [],
   "source": [
    "import uuid\n",
    "\n",
    "df['ID'] = [uuid.uuid4() for _ in range(len(df))]\n",
    "\n",
    "df"
   ]
  },
  {
   "cell_type": "raw",
   "id": "b91d59e1-b564-4162-85cd-519f7836aaff",
   "metadata": {},
   "source": [
    "## VALUES FOR COMBINATIONS ##\n",
    "firewall = [True, False]\n",
    "ids_ips = [True, False]\n",
    "ioc = [True, False]\n",
    "alert_warning = [True, False]\n",
    "proxy_hidden = [True, False]\n",
    "packet_length_range = [\"< 64\", \"65 - 100\", \"101 - 400\", \"5000 to 10000\"]\n",
    "source_port_range = [\"< 1000\", \"1000 to 5000\", \"5000 to 10000\"]\n",
    "destination_port_range = [\"< 1000\", \"1000 to 5000\", \"5000 to 10000\"]\n",
    "anomaly_score_range = [\"Low\", \"Medium\", \"High\"]\n",
    "Attack Type = [\"Malware\", \"DDoS\", \"Intrusion\"] "
   ]
  },
  {
   "cell_type": "raw",
   "id": "ea74d41d-7187-42c9-929c-3b475e81a697",
   "metadata": {},
   "source": [
    "# save old one too (if run again)\n",
    "# save a new table only with new columns and id\n",
    "\n",
    "columns_to_save = [\n",
    "    \"ID\",\n",
    "    \"Firewall Logs Status\",\n",
    "    \"IDS/IPS Alerts Status\",\n",
    "    \"Malware Indicators Status\",\n",
    "    \"Alerts/Warnings Status\",\n",
    "    \"Proxy Status\",\n",
    "    \"_Packet_Length_Range\",\n",
    "    \"_Source_Port_Range\",\n",
    "    \"_Destination_Port_Range\",\n",
    "    \"Anomaly_Score_Range\",\n",
    "    \"Attack Type\"\n",
    "]\n",
    "\n",
    "# Criar um novo dataframe apenas com as colunas desejadas\n",
    "df_filtered = df[columns_to_save]\n",
    "\n",
    "# Caminho para salvar o arquivo (altere conforme necessário)\n",
    "output_path = r\"C:\\Users\\isabela.ribeiro\\Desktop\\cybersecurity_filtered.csv\"\n",
    "\n",
    "# Salvar em CSV\n",
    "df_filtered.to_csv(output_path, index=False)\n",
    "\n",
    "print(f\"Arquivo salvo com sucesso em: {output_path}\")"
   ]
  },
  {
   "cell_type": "code",
   "execution_count": null,
   "id": "8643c20d-5f9f-499e-ac12-8659bb263323",
   "metadata": {},
   "outputs": [],
   "source": [
    "# Generating 2 combinations with the new column names\n",
    "combinations = list(itertools.product(\n",
    "        df[\"Anomaly_Score_Range\"], \n",
    "        df[\"Attack Type\"] \n",
    "))"
   ]
  },
  {
   "cell_type": "code",
   "execution_count": null,
   "id": "9d1ad7fc-6bba-4376-bae4-ab8e66e130b6",
   "metadata": {},
   "outputs": [],
   "source": [
    "# Show first 5 lines\n",
    "print(combinations[:5])"
   ]
  },
  {
   "cell_type": "code",
   "execution_count": null,
   "id": "57dd1ff3-68d1-451f-b49d-1aa3b92b2c30",
   "metadata": {},
   "outputs": [],
   "source": [
    "#Generating all possible combinations with the new column names\n",
    "combinations = list(itertools.product(\n",
    "        df[\"Firewall Logs Status\"], \n",
    "        df[\"IDS/IPS Alerts Status\"], \n",
    "        df[\"Malware Indicators Status\"], \n",
    "        df[\"Alerts/Warnings Status\"], \n",
    "        df[\"Proxy Status\"], \n",
    "        df[\"_Packet_Length_Range\"],  \n",
    "        df[\"_Source_Port_Range\"],\n",
    "        df[\"_Destination_Port_Range\"], \n",
    "        df[\"Anomaly_Score_Range\"], \n",
    "        df[\"Attack Type\"] \n",
    "))\n",
    "## and if i put it in MariaDB and use sql to run it or even use script but reading from there to skip the limitation from jupyter and the local pc"
   ]
  },
  {
   "cell_type": "code",
   "execution_count": null,
   "id": "05c68f8c-ae4d-492a-bb74-00e2b127ea65",
   "metadata": {},
   "outputs": [],
   "source": [
    "## I didn´t run this part (down) cause of memories issues in the previous steps \n",
    "\n",
    "# Criando um DataFrame com todas as associações\n",
    "df_combinations = \n",
    "    pd.DataFrame(combinations, \n",
    "                     columns=[\n",
    "                         \"Firewall\", \n",
    "                         \"IDS/IPS\", \n",
    "                         \"IoC Detected\", \n",
    "                         \"Alert/Warning\", \n",
    "                         \"Proxy Hidden\",\n",
    "                         \"Packet Length Range\", \n",
    "                         \"Source Port Range\", \n",
    "                         \"Destination Port Range\", \n",
    "                         \"Anomaly Score Range\", \n",
    "                         \"Attack Type\"\n",
    "                    ]\n",
    "                )"
   ]
  },
  {
   "cell_type": "code",
   "execution_count": null,
   "id": "e52c487e-ed48-43ab-bbfe-d71e5f3dde47",
   "metadata": {},
   "outputs": [],
   "source": [
    "# Show DataFrame with combinations\n",
    "df_combinations.head()"
   ]
  },
  {
   "cell_type": "code",
   "execution_count": null,
   "id": "ab189a8f-0a4b-4a94-bab3-20459427a8ec",
   "metadata": {},
   "outputs": [],
   "source": [
    "# Save new CSV\n",
    "path_new = ? ## choose path\n",
    "df_filtered.to_csv(path_new, index=False)\n",
    "\n",
    "print(f\"Arquivo salvo com sucesso em: {output_path}\")"
   ]
  },
  {
   "cell_type": "markdown",
   "id": "59e5fd9d-9eed-4995-8c89-9e4f3617b18f",
   "metadata": {},
   "source": [
    "16/03"
   ]
  },
  {
   "cell_type": "code",
   "execution_count": 342,
   "id": "a04cf2f1-ccc0-450f-b6f6-e5e7105da68c",
   "metadata": {},
   "outputs": [],
   "source": [
    "# Criando colunas booleanas\n",
    "df[\"Firewall Logs Status\"] = df[\"Firewall Logs\"].apply(lambda x: True if x == \"Log Data\" else False)\n",
    "df[\"IDS/IPS Alerts Status\"] = df[\"IDS/IPS Alerts\"].apply(lambda x: True if x == \"Alert Data\" else False)\n",
    "df[\"Malware Indicators Status\"] = df[\"Malware Indicators\"].apply(lambda x: True if x == \"IoC Detected\" else False)\n",
    "df[\"Alerts/Warnings Status\"] = df[\"Alerts/Warnings\"].apply(lambda x: True if x == \"Alert Triggered\" else False)\n",
    "df[\"Proxy Status\"] = df[\"Proxy Information\"].apply(lambda x: True if x == \"Hidden\" else False)\n",
    "\n",
    "#criando ranges\n",
    "df['_Packet_Length_Range'] = df['Packet Length'].apply(\n",
    "    lambda value: \"Small\" if value <= 420 else \n",
    "                  \"Medium\" if value <= 782 else \n",
    "                  \"Large\" if value <= 1143 else \n",
    "                  \"Very Large\"\n",
    ")\n",
    "\n",
    "df[\"Anomaly_Score_Range\"] = df[\"Anomaly Scores\"].apply(\n",
    "    lambda x: \"Low\" if x <= 25.15 else\n",
    "              \"Medium\" if x <= 50.34 else\n",
    "              \"High\" if x <= 75.03 else\n",
    "              \"Critical\"\n",
    ")"
   ]
  },
  {
   "cell_type": "code",
   "execution_count": 358,
   "id": "cd77b57c-f05f-4bde-866f-d2b8a840bfaa",
   "metadata": {},
   "outputs": [],
   "source": [
    "df = df.drop([ 'Anomaly Scores', 'Attack Signature'], axis=1)"
   ]
  },
  {
   "cell_type": "code",
   "execution_count": 366,
   "id": "a15e34d9-27d0-4331-9f98-d6626c5d5b4f",
   "metadata": {},
   "outputs": [
    {
     "name": "stdout",
     "output_type": "stream",
     "text": [
      "                Timestamp        Date\n",
      "0     2023-05-30 06:33:58  2023-05-30\n",
      "1     2020-08-26 07:08:30  2020-08-26\n",
      "2     2022-11-13 08:23:25  2022-11-13\n",
      "3     2023-07-02 10:38:46  2023-07-02\n",
      "4     2023-07-16 13:11:07  2023-07-16\n",
      "...                   ...         ...\n",
      "39995 2023-05-26 14:08:42  2023-05-26\n",
      "39996 2023-03-27 00:38:27  2023-03-27\n",
      "39997 2022-03-31 01:45:49  2022-03-31\n",
      "39998 2023-09-22 18:32:38  2023-09-22\n",
      "39999 2023-10-10 11:59:52  2023-10-10\n",
      "\n",
      "[40000 rows x 2 columns]\n"
     ]
    }
   ],
   "source": [
    "# Convertendo para datetime (se ainda não estiver)\n",
    "df['Timestamp'] = pd.to_datetime(df['Timestamp'])\n",
    "\n",
    "# Extraindo apenas a data\n",
    "df['Date'] = df['Timestamp'].dt.date\n",
    "\n",
    "# Exibindo o DataFrame com a nova coluna de data\n",
    "print(df[['Timestamp', 'Date']])"
   ]
  },
  {
   "cell_type": "code",
   "execution_count": 364,
   "id": "391cb847-6d17-4df8-a91d-3d58223944f3",
   "metadata": {},
   "outputs": [
    {
     "name": "stdout",
     "output_type": "stream",
     "text": [
      "      Minute Range\n",
      "0         06:33-34\n",
      "1         07:08-09\n",
      "2         08:23-24\n",
      "3         10:38-39\n",
      "4         13:11-12\n",
      "...            ...\n",
      "39995     14:08-09\n",
      "39996     00:38-39\n",
      "39997     01:45-46\n",
      "39998     18:32-33\n",
      "39999     11:59-60\n",
      "\n",
      "[40000 rows x 1 columns]\n"
     ]
    }
   ],
   "source": [
    "df['Timestamp'] = pd.to_datetime(df['Timestamp'])  # Convertendo para datetime\n",
    "\n",
    "# Criando a nova coluna de intervalo por minuto\n",
    "df['Minute Range'] = df['Timestamp'].dt.strftime('%H:%M')  # Extraindo o minuto específico e formatando como 'HH:MM'\n",
    "\n",
    "# Opcionalmente, se quiser agrupar por intervalos de 1 minuto, você pode aplicar uma lógica semelhante à faixa de horas\n",
    "df['Minute Range'] = df['Minute Range'].apply(lambda x: f'{x}-{str(int(x.split(\":\")[1])+1).zfill(2)}')\n",
    "\n",
    "# Exibindo o DataFrame com a nova coluna 'Minute Range'\n",
    "print(df[['Minute Range']])\n"
   ]
  },
  {
   "cell_type": "code",
   "execution_count": 562,
   "id": "775b70ac-1280-43f3-a8ce-90f3a0b2191b",
   "metadata": {},
   "outputs": [
    {
     "name": "stdout",
     "output_type": "stream",
     "text": [
      "Distinct Requests_Count: [1 2 3]\n"
     ]
    }
   ],
   "source": [
    "# Agrupando por 'Date' e 'Minute Range' para contar as requisições por minuto dentro de cada data\n",
    "requests_per_minute_date = df.groupby(['Date','Minute Range']).size().reset_index(name=\"Requests_Count\")\n",
    "\n",
    "# Filtrando para mostrar apenas as linhas onde a contagem de requisições é maior que 1\n",
    "requests_per_minute_date_filtered = requests_per_minute_date[requests_per_minute_date['Requests_Count'] > 0]\n",
    "\n",
    "# Exibindo os valores distintos de Requests_Count\n",
    "distinct_requests_count = requests_per_minute_date_filtered['Requests_Count'].unique()\n",
    "\n",
    "# Exibindo os valores distintos\n",
    "print(f\"Distinct Requests_Count: {distinct_requests_count}\")"
   ]
  },
  {
   "cell_type": "code",
   "execution_count": 564,
   "id": "89b86392-4664-4284-8920-c61ffd6917f0",
   "metadata": {
    "scrolled": true
   },
   "outputs": [
    {
     "data": {
      "text/html": [
       "<div>\n",
       "<style scoped>\n",
       "    .dataframe tbody tr th:only-of-type {\n",
       "        vertical-align: middle;\n",
       "    }\n",
       "\n",
       "    .dataframe tbody tr th {\n",
       "        vertical-align: top;\n",
       "    }\n",
       "\n",
       "    .dataframe thead th {\n",
       "        text-align: right;\n",
       "    }\n",
       "</style>\n",
       "<table border=\"1\" class=\"dataframe\">\n",
       "  <thead>\n",
       "    <tr style=\"text-align: right;\">\n",
       "      <th></th>\n",
       "      <th>Date</th>\n",
       "      <th>Minute Range</th>\n",
       "      <th>Requests_Count</th>\n",
       "    </tr>\n",
       "  </thead>\n",
       "  <tbody>\n",
       "    <tr>\n",
       "      <th>0</th>\n",
       "      <td>2020-01-01</td>\n",
       "      <td>00:43-44</td>\n",
       "      <td>1</td>\n",
       "    </tr>\n",
       "    <tr>\n",
       "      <th>1</th>\n",
       "      <td>2020-01-01</td>\n",
       "      <td>01:14-15</td>\n",
       "      <td>1</td>\n",
       "    </tr>\n",
       "    <tr>\n",
       "      <th>2</th>\n",
       "      <td>2020-01-01</td>\n",
       "      <td>03:02-03</td>\n",
       "      <td>1</td>\n",
       "    </tr>\n",
       "    <tr>\n",
       "      <th>3</th>\n",
       "      <td>2020-01-01</td>\n",
       "      <td>03:11-12</td>\n",
       "      <td>1</td>\n",
       "    </tr>\n",
       "    <tr>\n",
       "      <th>4</th>\n",
       "      <td>2020-01-01</td>\n",
       "      <td>03:29-30</td>\n",
       "      <td>1</td>\n",
       "    </tr>\n",
       "    <tr>\n",
       "      <th>...</th>\n",
       "      <td>...</td>\n",
       "      <td>...</td>\n",
       "      <td>...</td>\n",
       "    </tr>\n",
       "    <tr>\n",
       "      <th>39568</th>\n",
       "      <td>2023-10-11</td>\n",
       "      <td>12:29-30</td>\n",
       "      <td>1</td>\n",
       "    </tr>\n",
       "    <tr>\n",
       "      <th>39569</th>\n",
       "      <td>2023-10-11</td>\n",
       "      <td>12:36-37</td>\n",
       "      <td>1</td>\n",
       "    </tr>\n",
       "    <tr>\n",
       "      <th>39570</th>\n",
       "      <td>2023-10-11</td>\n",
       "      <td>17:44-45</td>\n",
       "      <td>1</td>\n",
       "    </tr>\n",
       "    <tr>\n",
       "      <th>39571</th>\n",
       "      <td>2023-10-11</td>\n",
       "      <td>18:50-51</td>\n",
       "      <td>1</td>\n",
       "    </tr>\n",
       "    <tr>\n",
       "      <th>39572</th>\n",
       "      <td>2023-10-11</td>\n",
       "      <td>19:34-35</td>\n",
       "      <td>1</td>\n",
       "    </tr>\n",
       "  </tbody>\n",
       "</table>\n",
       "<p>39573 rows × 3 columns</p>\n",
       "</div>"
      ],
      "text/plain": [
       "             Date Minute Range  Requests_Count\n",
       "0      2020-01-01     00:43-44               1\n",
       "1      2020-01-01     01:14-15               1\n",
       "2      2020-01-01     03:02-03               1\n",
       "3      2020-01-01     03:11-12               1\n",
       "4      2020-01-01     03:29-30               1\n",
       "...           ...          ...             ...\n",
       "39568  2023-10-11     12:29-30               1\n",
       "39569  2023-10-11     12:36-37               1\n",
       "39570  2023-10-11     17:44-45               1\n",
       "39571  2023-10-11     18:50-51               1\n",
       "39572  2023-10-11     19:34-35               1\n",
       "\n",
       "[39573 rows x 3 columns]"
      ]
     },
     "execution_count": 564,
     "metadata": {},
     "output_type": "execute_result"
    }
   ],
   "source": [
    "requests_per_minute_date"
   ]
  },
  {
   "cell_type": "code",
   "execution_count": 530,
   "id": "ea0d7a82-60c4-4fb8-b303-c68c69f4655d",
   "metadata": {},
   "outputs": [
    {
     "name": "stdout",
     "output_type": "stream",
     "text": [
      "Packets with null '_Packet_Length_Range': 0\n"
     ]
    }
   ],
   "source": [
    "# Filtrando os pacotes com '_Packet_Length_Range' nulo\n",
    "Null_packet_length = df[df['_Packet_Length_Range'].isna()]\n",
    "\n",
    "# Contando o número de pacotes com '_Packet_Length_Range' nulo\n",
    "count_null = Null_packet_length.shape[0]  # Quantidade de pacotes com '_Packet_Length_Range' nulo\n",
    "\n",
    "# Exibindo o resultado\n",
    "print(f\"Packets with null '_Packet_Length_Range': {count_null}\")\n"
   ]
  },
  {
   "cell_type": "code",
   "execution_count": 550,
   "id": "14fc4959-a69d-4e3b-a42f-61dd4d696425",
   "metadata": {},
   "outputs": [
    {
     "name": "stdout",
     "output_type": "stream",
     "text": [
      "Small packets with Requests_Count > 1: 1431\n"
     ]
    }
   ],
   "source": [
    "## COUNTING PACKET LENGHT SMALL (REQUISITION PER TIME)\n",
    "# Agrupando os dados por 'Date', 'Minute Range' e '_Packet_Length_Range'\n",
    "requests_per_minute_date = df.groupby(['Minute Range', '_Packet_Length_Range']).size().reset_index(name=\"Requests_Count\")\n",
    "\n",
    "# Filtrando os pacotes Large e Very Large\n",
    "Small_packets = requests_per_minute_date[requests_per_minute_date['_Packet_Length_Range'] == 'Small']\n",
    "\n",
    "# Filtrando os pacotes Large com Requests_Count > 1\n",
    "Small_requests_count_greater_than_1 = Small_packets[Small_packets['Requests_Count'] > 1]\n",
    "\n",
    "\n",
    "# Contando o número de pacotes Large e Very Large com Requests_Count > 1\n",
    "count_small = Small_requests_count_greater_than_1.shape[0]  # Quantidade de pacotes small com Requests_Count > 1\n",
    "\n",
    "# Exibindo o resultado\n",
    "print(f\"Small packets with Requests_Count > 1: {count_small}\")"
   ]
  },
  {
   "cell_type": "code",
   "execution_count": 516,
   "id": "bb936219-fa11-4665-b2ab-e0ee6b414f65",
   "metadata": {},
   "outputs": [
    {
     "name": "stdout",
     "output_type": "stream",
     "text": [
      "Medium packets with Requests_Count > 1: 29\n"
     ]
    }
   ],
   "source": [
    "# Agrupando os dados por 'Date', 'Minute Range' e '_Packet_Length_Range'\n",
    "requests_per_minute_date = df.groupby(['Date', 'Minute Range', '_Packet_Length_Range']).size().reset_index(name=\"Requests_Count\")\n",
    "\n",
    "# Filtrando os pacotes Medium\n",
    "Medium_packets = requests_per_minute_date[requests_per_minute_date['_Packet_Length_Range'] == 'Medium']\n",
    "\n",
    "# Filtrando os pacotes Medium com Requests_Count > 1\n",
    "Medium_requests_count_greater_than_1 = Medium_packets[Medium_packets['Requests_Count'] > 1]\n",
    "\n",
    "# Contando o número de pacotes Medium com Requests_Count > 1\n",
    "count_medium = Medium_requests_count_greater_than_1.shape[0]  # Quantidade de pacotes Medium com Requests_Count > 1\n",
    "\n",
    "# Exibindo o resultado\n",
    "print(f\"Medium packets with Requests_Count > 1: {count_medium}\")"
   ]
  },
  {
   "cell_type": "code",
   "execution_count": 532,
   "id": "f9b1f82a-ddf6-4ba7-98cb-4dcf5a3e796b",
   "metadata": {},
   "outputs": [
    {
     "name": "stdout",
     "output_type": "stream",
     "text": [
      "Large packets with Requests_Count > 1: 31\n",
      "Very Large packets with Requests_Count > 1: 20\n"
     ]
    }
   ],
   "source": [
    "## COUNTING PACKET LENGHT LARGE AND VERY LARGE PER MINUTE (REQUISITION PER TIME)\n",
    "# Agrupando os dados por 'Date', 'Minute Range' e '_Packet_Length_Range'\n",
    "requests_per_minute_date = df.groupby(['Date', 'Minute Range', '_Packet_Length_Range']).size().reset_index(name=\"Requests_Count\")\n",
    "\n",
    "# Filtrando os pacotes Large e Very Large\n",
    "large_packets = requests_per_minute_date[requests_per_minute_date['_Packet_Length_Range'] == 'Large']\n",
    "very_large_packets = requests_per_minute_date[requests_per_minute_date['_Packet_Length_Range'] == 'Very Large']\n",
    "\n",
    "# Filtrando os pacotes Large com Requests_Count > 1\n",
    "large_requests_count_greater_than_1 = large_packets[large_packets['Requests_Count'] > 1]\n",
    "\n",
    "# Filtrando os pacotes Very Large com Requests_Count > 1\n",
    "very_large_requests_count_greater_than_1 = very_large_packets[very_large_packets['Requests_Count'] > 1]\n",
    "\n",
    "# Contando o número de pacotes Large e Very Large com Requests_Count > 1\n",
    "count_large = large_requests_count_greater_than_1.shape[0]  # Quantidade de pacotes Large com Requests_Count > 1\n",
    "count_very_large = very_large_requests_count_greater_than_1.shape[0]  # Quantidade de pacotes Very Large com Requests_Count > 1\n",
    "\n",
    "# Exibindo o resultado\n",
    "print(f\"Large packets with Requests_Count > 1: {count_large}\")\n",
    "print(f\"Very Large packets with Requests_Count > 1: {count_very_large}\")"
   ]
  },
  {
   "cell_type": "markdown",
   "id": "0b4d5093-6169-47e1-94b5-be72f3379a11",
   "metadata": {},
   "source": [
    "# why the results are so low? but i checked == 1 and make sense"
   ]
  },
  {
   "cell_type": "code",
   "execution_count": 520,
   "id": "0a6ed4fd-52d1-40aa-a10a-2ff6c8d5d1ab",
   "metadata": {},
   "outputs": [
    {
     "name": "stdout",
     "output_type": "stream",
     "text": [
      "19\n"
     ]
    }
   ],
   "source": [
    "check = (\n",
    "    ((df['_Packet_Length_Range'] == 'Large') | (df['_Packet_Length_Range'] == 'Very Large')) &\n",
    "    (requests_per_minute_date_filtered['Requests_Count'] > 1)\n",
    ").sum()\n",
    "\n",
    "# Exibindo o resultado\n",
    "print(check)\n",
    "\n",
    "##antes tava 208 quando coloquei packact lenght isso mudou"
   ]
  },
  {
   "cell_type": "markdown",
   "id": "0699978f-b3d2-4e48-92e5-0463dfb2bc5d",
   "metadata": {},
   "source": [
    "#Common PORTS per PROTOCOLS & TRAFFIC TYPE\n",
    "DNS + UDP = 53\t(Consultas de DNS, Tradução de Domínios)\n",
    "DNS\t+ TCP = 53\t(Respostas DNS - em caso de falha no UDP ou resposta grande)\n",
    "FTP\t+ TCP = 21\t(Controle de FTP - comandos)\n",
    "            990 \n",
    "FTP\t+ TCP = 20\t(Transferência de dados no modo ativo)\n",
    "\n",
    "FTP\t+ TCP = 1024-65535\t(Transferência de dados no modo passivo - faixa de portas dinâmicas)\n",
    "HTTP + TCP = 80\t(Tráfego HTTP - não seguro)\n",
    "             8080, 8000  (HTTP Alternativo) \n",
    "-- HTTPS + TCP = 443\t(Tráfego HTTPS - seguro)\n",
    "\n",
    "#Considerações:\n",
    "O DNS pode usar tanto TCP quanto UDP, mas o UDP é mais comum para consultas de DNS simples.\n",
    "O FTP usa as portas 20 e 21, mas no modo passivo, as portas de transferência de dados podem ser dinâmicas (acima de 1024), e essas portas são escolhidas pelo servidor FTP.\n",
    "O HTTP tradicional usa a porta 80, e o HTTPS usa a porta 443, com a diferença sendo que o HTTPS criptografa o tráfego usando SSL/TLS.\n",
    "\n",
    "#OUTRAS PORTAS\n",
    "- Porta 8080: Usada para servidores web alternativos ou proxies HTTP, geralmente substituindo a porta 80 em situações específicas.\n",
    "\n",
    "- Portas 49152 a 65535 - Portas Privadas / Efêmeras / Dinâmicas: São atribuídas temporariamente quando um aplicativo ou serviço precisa abrir uma conexão de rede.\n",
    "      REQUISIÇÃO PODE SER PORTAS NESSE INTERVALO POR TEMPO (Quando você abre uma nova conexão de rede, o sistema operacional geralmente escolhe uma porta dinâmica para a conexão. Essas portas não são fixas, e o sistema escolhe uma porta livre dentro do intervalo especificado.\n",
    "Depois que a conexão termina, a porta é liberada e pode ser reutilizada para novas conexões.)\n",
    "\n",
    "-  Portas 1024 a 49151 - Portas Registradas: Essas portas podem ser registradas por organizações e empresas para seus serviços personalizados. (MySQL geralmente usa a porta 3306. PostgreSQL pode usar a porta 5432. SMTP pode usar a porta 25.)\n",
    "\n",
    "- Porta 3389 (RDP) – Usada para Remote Desktop Protocol (RDP) (acesso remoto ao Windows).\n",
    "- Porta 3128 (Squid Proxy) – Usada para proxy HTTP/HTTPS.\n",
    "- Porta 1194 (OpenVPN) – Usada para VPN OpenVPN.\n",
    "- Portas para Jogos e Entretenimento:\n",
    "    Porta 27015 (Steam / Jogos) – Usada por Steam e para servidores de jogos.\n",
    "    Porta 25565 (Minecraft) – Usada para servidores Minecraft.\n",
    "- Portas para Serviços de Comunicação:\n",
    "    Porta 5060 (SIP) – Usada para o protocolo Session Initiation Protocol (SIP) em telefonia VoIP.\n",
    "    Porta 5061 (SIP TLS) – Usada para SIP seguro (com TLS)\n",
    "\n",
    "#Portas para Bancos de Dados:\n",
    "Porta 3306 (MySQL) – Usada para MySQL Database.\n",
    "Porta 5432 (PostgreSQL) – Usada para PostgreSQL Database.\n",
    "Porta 1433 (SQL Server) – Usada para Microsoft SQL Server.\n",
    "Porta 1521 (Oracle DB) – Usada para Oracle Database."
   ]
  },
  {
   "cell_type": "code",
   "execution_count": 70,
   "id": "43416782-996e-46d5-a114-11160d375081",
   "metadata": {},
   "outputs": [
    {
     "data": {
      "text/plain": [
       "count    40000.000000\n",
       "mean     32970.356450\n",
       "std      18560.425604\n",
       "min       1027.000000\n",
       "25%      16850.750000\n",
       "50%      32856.000000\n",
       "75%      48928.250000\n",
       "max      65530.000000\n",
       "Name: Source Port, dtype: float64"
      ]
     },
     "execution_count": 70,
     "metadata": {},
     "output_type": "execute_result"
    }
   ],
   "source": [
    "df['Source Port'].describe()"
   ]
  },
  {
   "cell_type": "code",
   "execution_count": 148,
   "id": "ab0adc02-7b82-4780-bb62-7f45d03b7900",
   "metadata": {},
   "outputs": [
    {
     "name": "stdout",
     "output_type": "stream",
     "text": [
      "\n",
      "Contagem por Categoria:\n",
      "Port Category\n",
      "REGISTERED_PORTS        30110\n",
      "PRIVATE_PORTS            9879\n",
      "VPN_TCP                     2\n",
      "HTTP_ALTERNATIVE_TCP        2\n",
      "RDP_TCP                     2\n",
      "GAME_TCP                    2\n",
      "PROXY_TCP                   1\n",
      "SIP_TCP                     1\n",
      "DATABASES                   1\n",
      "Name: count, dtype: int64\n"
     ]
    }
   ],
   "source": [
    "# Definição das categorias de portas\n",
    "common_ports = {\n",
    "    \"HTTP_ALTERNATIVE_TCP\": [8080, 8000],  # HTTP Alternativo\n",
    "    \"RDP_TCP\": [3389],  # Remote Desktop Protocol (RDP)\n",
    "    \"SIP_TCP\": [5060],  # SIP (VoIP)\n",
    "    \"DATABASES\": [5061, 3306, 5432, 1433, 1521],  # Bancos de dados\n",
    "    \"GAME_TCP\": [27015, 25565],  # Jogos\n",
    "    \"VPN_TCP\": [1194],  # OpenVPN\n",
    "    \"PROXY_TCP\": [3128],  # Proxy HTTP\n",
    "    \"PRIVATE_PORTS\": list(range(49152, 65536)),  # Portas privadas/dinâmicas\n",
    "    \"REGISTERED_PORTS\": list(range(1024, 49152))  # Portas registradas\n",
    "}\n",
    "\n",
    "# Função para categorizar a porta\n",
    "def categorize_port(port):\n",
    "    for category, ports in common_ports.items():\n",
    "        if isinstance(ports, list):  # Se for uma lista específica\n",
    "            if port in ports:\n",
    "                return category\n",
    "        elif isinstance(ports, range):  # Se for um intervalo\n",
    "            if port in ports:\n",
    "                return category\n",
    "    return \"Unknown\"  # Caso não esteja em nenhuma categoria\n",
    "\n",
    "# Aplicando a função ao DataFrame\n",
    "df['Port Category'] = df['Source Port'].apply(categorize_port)\n",
    "\n",
    "# Contando quantas portas existem por categoria\n",
    "category_counts = df['Port Category'].value_counts()\n",
    "\n",
    "# Exibindo os resultados\n",
    "print(\"\\nContagem por Categoria:\")\n",
    "print(category_counts)"
   ]
  },
  {
   "cell_type": "code",
   "execution_count": 152,
   "id": "7dc2ed62-0bbf-4404-928e-98d1a0ea15d8",
   "metadata": {},
   "outputs": [
    {
     "name": "stdout",
     "output_type": "stream",
     "text": [
      "           Port Category Attack Type  Count\n",
      "0              DATABASES   Intrusion      1\n",
      "1               GAME_TCP   Intrusion      1\n",
      "2               GAME_TCP     Malware      1\n",
      "3   HTTP_ALTERNATIVE_TCP     Malware      2\n",
      "4          PRIVATE_PORTS        DDoS   3342\n",
      "5          PRIVATE_PORTS   Intrusion   3302\n",
      "6          PRIVATE_PORTS     Malware   3235\n",
      "7              PROXY_TCP     Malware      1\n",
      "8                RDP_TCP        DDoS      1\n",
      "9                RDP_TCP     Malware      1\n",
      "10      REGISTERED_PORTS        DDoS  10085\n",
      "11      REGISTERED_PORTS   Intrusion   9959\n",
      "12      REGISTERED_PORTS     Malware  10066\n",
      "13               SIP_TCP   Intrusion      1\n",
      "14               VPN_TCP   Intrusion      1\n",
      "15               VPN_TCP     Malware      1\n"
     ]
    }
   ],
   "source": [
    "# Contagem por categoria de porta e tipo de ataque\n",
    "port_attack_counts = df.groupby(['Port Category', 'Attack Type']).size().reset_index(name='Count')\n",
    "print(port_attack_counts)"
   ]
  },
  {
   "cell_type": "markdown",
   "id": "bc7a543a-e5c8-44f6-b46a-8f5ec01c3f44",
   "metadata": {},
   "source": [
    "#IF THIS PORTS THEN THIS TYPE OF ATTACK\n",
    "#TRY API TO CATEGORIZE PORT\n",
    "\n",
    "GAME_TCP   Intrusion      1\r",
    " GAME_TCP     Malware      \n",
    "\n",
    "HTTP_ALTERNATIVE_TCP     Malware      2\n",
    "\n",
    "DATABASES   Intrusion      1\n",
    "\n",
    "PROXY_TCP     Malware      1\n",
    "\r",
    " RDP_TCP        DDoS      1  RDP_TCP     Malware     \n",
    "\n",
    "SIP_TCP   Intrusion      1\n",
    "\r",
    " VPN_TCP   Intrusion      1  VPN_TCP     Malware      1 11"
   ]
  },
  {
   "cell_type": "markdown",
   "id": "891f249c-0e7a-4906-a6da-7cf891359960",
   "metadata": {},
   "source": [
    "#Let´s considere REGISTERED_PORTS as suspecious port"
   ]
  },
  {
   "cell_type": "code",
   "execution_count": 180,
   "id": "4c37563c-a3e2-4d69-b700-9d8b335957ed",
   "metadata": {},
   "outputs": [
    {
     "name": "stdout",
     "output_type": "stream",
     "text": [
      "Amount of 'Action Taken' = 'Blocked' before associate it with registered ports: 13529\n"
     ]
    }
   ],
   "source": [
    "# Filtrando os dados onde 'Action Taken' é igual a 'Blocked'\n",
    "blocked_count = df[df['Action Taken'] == 'Blocked']['Action Taken'].count()\n",
    "\n",
    "print(f\"Amount of 'Action Taken' = 'Blocked' before associate it with registered ports: {blocked_count}\")"
   ]
  },
  {
   "cell_type": "code",
   "execution_count": 172,
   "id": "68b91a01-db44-41ef-a16f-5d7e95d4626e",
   "metadata": {},
   "outputs": [
    {
     "name": "stdout",
     "output_type": "stream",
     "text": [
      "Número de portas registradas com 'Action Taken' = 'Blocked': 10091\n"
     ]
    }
   ],
   "source": [
    "# Filtrando os dados para as portas categorizadas como 'REGISTERED_PORTS'\n",
    "df_suspecious_ports = df[df['Port Category'] == 'REGISTERED_PORTS'] #suspicious\n",
    "\n",
    "# Filtrando os dados para 'Action Taken' igual a 'Blocked'\n",
    "df_blocked = df_suspecious_ports[df_suspecious_ports['Action Taken'] == 'Blocked']\n",
    "\n",
    "# Contando o número de entradas de portas registradas com 'Action Taken' = 'Blocked'\n",
    "count_blocked = df_blocked.shape[0]\n",
    "\n",
    "# Exibindo o resultado\n",
    "print(f\"Number of Ports register with 'Action Taken' = 'Blocked': {count_blocked}\")"
   ]
  },
  {
   "cell_type": "code",
   "execution_count": 214,
   "id": "b35de49f-7148-42e7-830a-eb16fd688e7f",
   "metadata": {},
   "outputs": [
    {
     "name": "stdout",
     "output_type": "stream",
     "text": [
      "Number of Ports registered with 'Action Taken' = 'Blocked' and 'IDS/IPS ALERT' not null: 5019\n"
     ]
    }
   ],
   "source": [
    "# CRITERIO ANTERIOR + IDS/IPS ALERT\n",
    "\n",
    "#Filtrando os dados onde 'IDS/IPS ALERT' não é nulo, com base na variável 'count_blocked'\n",
    "df_blocked_alert = df_blocked[df_blocked['IDS/IPS Alerts'].notna()]\n",
    "\n",
    "# Contando o número de entradas de portas com 'Action Taken' = 'Blocked' e 'IDS/IPS ALERT' não nulo\n",
    "count_blocked_alert = df_blocked_alert.shape[0]\n",
    "\n",
    "# Exibindo o resultado de portas com 'Action Taken' = 'Blocked' e 'IDS/IPS ALERT' não nulo\n",
    "print(f\"Number of Ports registered with 'Action Taken' = 'Blocked' and 'IDS/IPS ALERT' not null: {count_blocked_alert}\")"
   ]
  },
  {
   "cell_type": "code",
   "execution_count": 244,
   "id": "eee760ab-8ebb-4d98-8cf9-9765792ea146",
   "metadata": {},
   "outputs": [
    {
     "name": "stdout",
     "output_type": "stream",
     "text": [
      "Attack Type\n",
      "Intrusion    1684\n",
      "DDoS         1683\n",
      "Malware      1652\n",
      "Name: count, dtype: int64\n"
     ]
    }
   ],
   "source": [
    "# Contando as ocorrências de 'Attack Type' no df_blocked_alert\n",
    "attack_type_counts = df_blocked_alert['Attack Type'].value_counts()\n",
    "\n",
    "# Exibindo o resultado\n",
    "print(attack_type_counts)\n",
    "\n",
    "#Continua normalizado"
   ]
  },
  {
   "cell_type": "code",
   "execution_count": null,
   "id": "7f7fdb23-b988-40bd-8b3d-82a390d3f304",
   "metadata": {},
   "outputs": [],
   "source": [
    "# Exibindo o DataFrame filtrado após todas as etapas\n",
    "print(df_blocked_alert)\n",
    "\n",
    "# Ou para exibir as primeiras 10 linhas do DataFrame filtrado\n",
    "#print(df_blocked_alert.head())"
   ]
  },
  {
   "cell_type": "code",
   "execution_count": 278,
   "id": "865818fd-bf4d-4f90-b15c-d43ad486ba3e",
   "metadata": {},
   "outputs": [
    {
     "name": "stdout",
     "output_type": "stream",
     "text": [
      "Number of entries: 1230\n"
     ]
    }
   ],
   "source": [
    "#Firewall Logs x Log Source (firewall log alert and actually firewall)\n",
    "check_logfirewall_logsource = ((df_blocked_alert['Firewall Logs'] == 'Log Data') & (df_blocked_alert['Log Source'] == 'Firewall')).sum()\n",
    "\n",
    "# Exibindo o resultado\n",
    "print(f\"Number of entries: {check_logfirewall_logsource}\")"
   ]
  },
  {
   "cell_type": "code",
   "execution_count": 280,
   "id": "fbe4def8-f5f6-44a1-8798-19486fa48020",
   "metadata": {},
   "outputs": [
    {
     "name": "stdout",
     "output_type": "stream",
     "text": [
      "Number of entries: 1302\n"
     ]
    }
   ],
   "source": [
    "#Firewall Logs x Log Source (firewall log alert and server)\n",
    "check_logfirewall_logsource = ((df_blocked_alert['Firewall Logs'] == 'Log Data') & (df_blocked_alert['Log Source'] == 'Server')).sum()\n",
    "\n",
    "# Exibindo o resultado\n",
    "print(f\"Number of entries: {check_logfirewall_logsource}\")"
   ]
  },
  {
   "cell_type": "code",
   "execution_count": 282,
   "id": "7e590aeb-c920-4e9c-9281-644aeb2878f9",
   "metadata": {},
   "outputs": [
    {
     "name": "stdout",
     "output_type": "stream",
     "text": [
      "Number of entries: 1230\n"
     ]
    }
   ],
   "source": [
    "#Firewall Logs is null + log server = server\n",
    "check_logfirewall_logsource = (\n",
    "    ((df_blocked_alert['Firewall Logs'].isna()) & (df_blocked_alert['Log Source'] == 'Server')).sum())\n",
    "\n",
    "# Exibindo o resultado\n",
    "print(f\"Number of entries: {check_logfirewall_logsource}\")"
   ]
  },
  {
   "cell_type": "code",
   "execution_count": 284,
   "id": "bfe25dd7-ca3b-4e50-b3aa-54ae459beff8",
   "metadata": {},
   "outputs": [
    {
     "name": "stdout",
     "output_type": "stream",
     "text": [
      "Number of entries: 1257\n"
     ]
    }
   ],
   "source": [
    "#Firewall Logs is null + log server = server\n",
    "check_logfirewall_logsource = (\n",
    "    ((df_blocked_alert['Firewall Logs'].isna()) & (df_blocked_alert['Log Source'] == 'Firewall')).sum())\n",
    "\n",
    "# Exibindo o resultado\n",
    "print(f\"Number of entries: {check_logfirewall_logsource}\")"
   ]
  },
  {
   "cell_type": "code",
   "execution_count": 254,
   "id": "88c68fd1-d04e-49af-9cb3-c28bc976630c",
   "metadata": {},
   "outputs": [
    {
     "name": "stdout",
     "output_type": "stream",
     "text": [
      "Number of entries: 2487\n"
     ]
    }
   ],
   "source": [
    "# Contando o número de entradas que saou Firewall\n",
    "check = (df_blocked_alert['Log Source'] == 'Firewall').sum()\n",
    "\n",
    "# Exibindo o resultado\n",
    "print(f\"Number of entries: {check}\")"
   ]
  },
  {
   "cell_type": "code",
   "execution_count": 286,
   "id": "6018939b-7eb4-40f6-a2ae-4b20150e957f",
   "metadata": {},
   "outputs": [
    {
     "name": "stdout",
     "output_type": "stream",
     "text": [
      "Number of entries: 2532\n"
     ]
    }
   ],
   "source": [
    "# Contando o número de entradas que saou Firewall\n",
    "check = (df_blocked_alert['Log Source'] == 'Server').sum()\n",
    "\n",
    "# Exibindo o resultado\n",
    "print(f\"Number of entries: {check}\")"
   ]
  },
  {
   "cell_type": "markdown",
   "id": "d281f0af-f97e-4147-adb8-7629681da0ba",
   "metadata": {},
   "source": [
    "#Firewall Logs x Log Source (firewall log alert and server)\n",
    "#Firewall Logs x Log Source (firewall log alert and actually firewall)\n",
    "EXTAMENTE O MESMO !!!!!"
   ]
  },
  {
   "cell_type": "code",
   "execution_count": 294,
   "id": "9fb3b3a3-e188-4b11-bdfb-f35acbd843da",
   "metadata": {},
   "outputs": [
    {
     "data": {
      "text/plain": [
       "2487"
      ]
     },
     "execution_count": 294,
     "metadata": {},
     "output_type": "execute_result"
    }
   ],
   "source": [
    "(df_blocked_alert['Firewall Logs'].isna()).sum()"
   ]
  },
  {
   "cell_type": "code",
   "execution_count": 316,
   "id": "7fefd8d8-1b0f-4055-b44f-723387eaf1dd",
   "metadata": {},
   "outputs": [
    {
     "name": "stdout",
     "output_type": "stream",
     "text": [
      "check: 0\n"
     ]
    }
   ],
   "source": [
    "# Filtrando os dados para as condições especificadas no check_2\n",
    "check_ = (\n",
    "    (df_blocked_alert['Log Source'] == 'Firewall') &\n",
    "    (df_blocked_alert['Traffic Type'] == 'ICMP')\n",
    ").sum()\n",
    "\n",
    "# Exibindo o resultado\n",
    "print(f\"check: {check_}\")\n",
    "\n",
    "##I HAVE NONE for server or to firewall -- ONE RULE, MAYBE?"
   ]
  },
  {
   "cell_type": "code",
   "execution_count": null,
   "id": "4cbdc96d-4735-424a-b880-306f7da8ffef",
   "metadata": {},
   "outputs": [],
   "source": [
    "MAYBE A RULE"
   ]
  },
  {
   "cell_type": "code",
   "execution_count": 318,
   "id": "ccd57be1-acd9-4a48-abc3-4377a760ec1b",
   "metadata": {},
   "outputs": [
    {
     "name": "stdout",
     "output_type": "stream",
     "text": [
      "check_1: 1109, check_2: 301\n"
     ]
    }
   ],
   "source": [
    "# Filtrando os dados para as condições especificadas no check_\n",
    "check_1 = (\n",
    "    ((df_blocked_alert['Log Source'] == 'Firewall') | (df_blocked_alert['Log Source'] == 'Server')) &  # condição para Firewall e Server\n",
    "    (df_blocked_alert['Protocol'] == 'TCP') &\n",
    "    ((df_blocked_alert['Traffic Type'] == 'FTP') | (df_blocked_alert['Traffic Type'] == 'HTTP'))\n",
    ").sum()\n",
    "\n",
    "\n",
    "# Filtrando os dados para as condições especificadas no check_3\n",
    "check_2 = (\n",
    "    (df_blocked_alert['Log Source'] == 'Server') &\n",
    "    (df_blocked_alert['Protocol'] == 'TCP') &\n",
    "    (df_blocked_alert['Packet Type'] == 'Data') &\n",
    "    ((df_blocked_alert['Traffic Type'] == 'FTP') | (df_blocked_alert['Traffic Type'] == 'HTTP'))\n",
    ").sum()\n",
    "\n",
    "# Exibindo o resultado\n",
    "print(f\"check_1: {check_1}, check_2: {check_2}\")"
   ]
  },
  {
   "cell_type": "code",
   "execution_count": 326,
   "id": "7adc8d88-6898-4707-9f03-f7f7a409b98f",
   "metadata": {},
   "outputs": [
    {
     "name": "stdout",
     "output_type": "stream",
     "text": [
      "Attack Type\n",
      "DDoS         372\n",
      "Intrusion    363\n",
      "Malware      374\n",
      "dtype: int64\n"
     ]
    }
   ],
   "source": [
    "# Aplicando a condição check_1 diretamente ao df_blocked_alert\n",
    "df_filtered = df_blocked_alert[\n",
    "    ((df_blocked_alert['Log Source'] == 'Firewall') | (df_blocked_alert['Log Source'] == 'Server')) &  # Condição para Firewall e Server\n",
    "    (df_blocked_alert['Protocol'] == 'TCP') &\n",
    "    ((df_blocked_alert['Traffic Type'] == 'FTP') | (df_blocked_alert['Traffic Type'] == 'HTTP'))\n",
    "]\n",
    "\n",
    "# Agrupando o DataFrame filtrado por 'Attack Type' e contando as ocorrências\n",
    "attack_group = df_filtered.groupby('Attack Type').size()\n",
    "\n",
    "# Exibindo o resultado\n",
    "print(attack_group)"
   ]
  },
  {
   "cell_type": "code",
   "execution_count": 538,
   "id": "1098d9df-3183-4714-875c-75732a110ea4",
   "metadata": {},
   "outputs": [
    {
     "name": "stdout",
     "output_type": "stream",
     "text": [
      "Attack Type\n",
      "DDoS          98\n",
      "Intrusion     90\n",
      "Malware      113\n",
      "dtype: int64\n"
     ]
    }
   ],
   "source": [
    "# Aplicando a condição check_1 diretamente ao df_blocked_alert\n",
    "df_filtered = df_blocked_alert[\n",
    "    (df_blocked_alert['Log Source'] == 'Server') &\n",
    "    (df_blocked_alert['Protocol'] == 'TCP') &\n",
    "    (df_blocked_alert['Packet Type'] == 'Data') &\n",
    "    ((df_blocked_alert['Traffic Type'] == 'FTP') | (df_blocked_alert['Traffic Type'] == 'HTTP'))\n",
    "]\n",
    "\n",
    "# Agrupando o DataFrame filtrado por 'Attack Type' e contando as ocorrências\n",
    "attack_group = df_filtered.groupby('Attack Type').size()\n",
    "\n",
    "# Exibindo o resultado\n",
    "print(attack_group)"
   ]
  },
  {
   "cell_type": "markdown",
   "id": "38cd8600-4800-45b0-9cbe-4cb96d4c72aa",
   "metadata": {},
   "source": [
    "FTP E TCP AUMENTAM MALWARE"
   ]
  },
  {
   "cell_type": "code",
   "execution_count": 332,
   "id": "27da9a11-7d2b-40ff-b8de-8da904db8103",
   "metadata": {},
   "outputs": [
    {
     "name": "stdout",
     "output_type": "stream",
     "text": [
      "Attack Type\n",
      "DDoS         81\n",
      "Intrusion    91\n",
      "Malware      77\n",
      "dtype: int64\n"
     ]
    }
   ],
   "source": [
    "# Aplicando a condição check_1 diretamente ao df_blocked_alert\n",
    "df_filtered = df_blocked_alert[\n",
    "    (df_blocked_alert['Log Source'] == 'Server') &\n",
    "    (df_blocked_alert['Protocol'] == 'UDP') &\n",
    "    (df_blocked_alert['Packet Type'] == 'Data') &\n",
    "    ((df_blocked_alert['Traffic Type'] == 'DNS') | (df_blocked_alert['Traffic Type'] == 'HTTP'))\n",
    "]\n",
    "\n",
    "# Agrupando o DataFrame filtrado por 'Attack Type' e contando as ocorrências\n",
    "attack_group = df_filtered.groupby('Attack Type').size()\n",
    "\n",
    "# Exibindo o resultado\n",
    "print(attack_group)"
   ]
  },
  {
   "cell_type": "markdown",
   "id": "28bb0428-2581-48fa-998c-0253ca2b6bf5",
   "metadata": {},
   "source": [
    "DNS E UDP DIMINUEM O MALWARE E AUMENTA INTRUSION"
   ]
  },
  {
   "cell_type": "code",
   "execution_count": 334,
   "id": "60a9e202-a727-4aeb-8da8-744e0ec8529d",
   "metadata": {},
   "outputs": [
    {
     "name": "stdout",
     "output_type": "stream",
     "text": [
      "Attack Type\n",
      "DDoS         97\n",
      "Intrusion    88\n",
      "Malware      91\n",
      "dtype: int64\n"
     ]
    }
   ],
   "source": [
    "# Aplicando a condição check_1 diretamente ao df_blocked_alert\n",
    "df_filtered = df_blocked_alert[\n",
    "    (df_blocked_alert['Log Source'] == 'Firewall') &\n",
    "    (df_blocked_alert['Protocol'] == 'UDP') &\n",
    "    (df_blocked_alert['Packet Type'] == 'Data') &\n",
    "    ((df_blocked_alert['Traffic Type'] == 'DNS') | (df_blocked_alert['Traffic Type'] == 'HTTP'))\n",
    "]\n",
    "\n",
    "# Agrupando o DataFrame filtrado por 'Attack Type' e contando as ocorrências\n",
    "attack_group = df_filtered.groupby('Attack Type').size()\n",
    "\n",
    "# Exibindo o resultado\n",
    "print(attack_group)"
   ]
  },
  {
   "cell_type": "code",
   "execution_count": null,
   "id": "ccb43026-7cda-43d4-b6d1-b500beee9d92",
   "metadata": {},
   "outputs": [],
   "source": [
    "Trocar server por firewall aumenta DDoS e Diminue Intrusion"
   ]
  },
  {
   "cell_type": "code",
   "execution_count": null,
   "id": "87c32d2e-8f77-46d9-b387-d199014b2d40",
   "metadata": {},
   "outputs": [],
   "source": [
    "#REQUISITION PER IP\n",
    "# Converter o Timestamp para datetime, caso ainda não esteja\n",
    "df[\"Timestamp\"] = pd.to_datetime(df[\"Timestamp\"], errors=\"coerce\")\n",
    "\n",
    "# Criar a coluna Time_Second, arredondando o timestamp para o segundo mais próximo\n",
    "df[\"Time_Second\"] = df[\"Timestamp\"].dt.floor(\"S\")\n",
    "\n",
    "# Agrupar as requisições por Time_Second e Source IP, contando o número de requisições por grupo\n",
    "requests_per_ip = df.groupby([\"Time_Second\", \"Source IP Address\"]).size().reset_index(name=\"Requests_Count\")\n",
    "\n",
    "# Exibir os primeiros resultados para verificar\n",
    "print(requests_per_ip.head())\n",
    "\n",
    "#IPs que estão fazendo muitas requisições em um curto período (possível ataque DDoS).\n",
    "\n",
    "# Identificar IPs que fazem muitas requisições em pouco tempo\n",
    "df['Time_Minute'] = df['Timestamp'].dt.floor(\"T\")  \n",
    "ddos_ips = df.groupby([\"Time_Minute\", \"Source IP Address\"]).size().reset_index(name=\"Request_Count\")\n",
    "ddos_suspects = ddos_ips[ddos_ips[\"Request_Count\"] > 100]  # Mais de 100 requisições/minuto\n",
    "print(ddos_suspects) #DDoS\n",
    "\n",
    "# Verificar se há um padrão fixo de tempo entre requisições\n",
    "df[\"Time_Difference\"] = df.groupby(\"Source IP Address\")[\"Timestamp\"].diff().dt.total_seconds()\n",
    "c2_suspects = df[df[\"Time_Difference\"].between(9, 11)]  # Exemplo: comunicação a cada 10s\n",
    "print(c2_suspects) #malware\n",
    "#NAO TEM\n",
    "\n",
    "# Filtrar IPs com múltiplas tentativas em portas incomuns\n",
    "intrusion_ips = df[df[\"Destination Port\"] > 50000].groupby(\"Source IP Address\").size().reset_index(name=\"Attempt_Count\")\n",
    "suspect_intrusions = intrusion_ips[intrusion_ips[\"Attempt_Count\"] > 5]  # Exemplo: 5 tentativas suspeitas\n",
    "print(suspect_intrusions) #intrusion\n",
    "#NADA"
   ]
  }
 ],
 "metadata": {
  "kernelspec": {
   "display_name": "Python 3 (ipykernel)",
   "language": "python",
   "name": "python3"
  },
  "language_info": {
   "codemirror_mode": {
    "name": "ipython",
    "version": 3
   },
   "file_extension": ".py",
   "mimetype": "text/x-python",
   "name": "python",
   "nbconvert_exporter": "python",
   "pygments_lexer": "ipython3",
   "version": "3.12.4"
  }
 },
 "nbformat": 4,
 "nbformat_minor": 5
}
