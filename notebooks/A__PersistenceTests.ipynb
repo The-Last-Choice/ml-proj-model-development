{
 "cells": [
  {
   "cell_type": "code",
   "execution_count": 1,
   "id": "7e04a09d-580e-4d11-a197-4b5b5c833b88",
   "metadata": {},
   "outputs": [],
   "source": [
    "import pandas as pd\n",
    "import dill\n",
    "\n",
    "with open(\"../model/model_pl_wrapper.pckl\",\"rb\") as f:\n",
    "    wrapper = dill.load(f)"
   ]
  },
  {
   "cell_type": "code",
   "execution_count": 2,
   "id": "a57e0bc5-bea2-45bf-ab21-99c5c86f6028",
   "metadata": {},
   "outputs": [
    {
     "data": {
      "text/plain": [
       "array(['Malware'], dtype=object)"
      ]
     },
     "execution_count": 2,
     "metadata": {},
     "output_type": "execute_result"
    }
   ],
   "source": [
    "feature_names = ['browser','os','pckt_len_pckt_tp','pckt_len_Source','pckt_tp_Protocol','anomaly_scores','month']\n",
    "data = [['IE', 'Windows', 'Medium_Control', 'Large_Firewall', 'Control_TCP', 62, 5]]\n",
    "dfx = pd.DataFrame(data, columns=feature_names)\n",
    "pred = wrapper.predict(dfx)\n",
    "pred"
   ]
  }
 ],
 "metadata": {
  "kernelspec": {
   "display_name": "Python 3 (ipykernel)",
   "language": "python",
   "name": "python3"
  },
  "language_info": {
   "codemirror_mode": {
    "name": "ipython",
    "version": 3
   },
   "file_extension": ".py",
   "mimetype": "text/x-python",
   "name": "python",
   "nbconvert_exporter": "python",
   "pygments_lexer": "ipython3",
   "version": "3.10.4"
  }
 },
 "nbformat": 4,
 "nbformat_minor": 5
}
