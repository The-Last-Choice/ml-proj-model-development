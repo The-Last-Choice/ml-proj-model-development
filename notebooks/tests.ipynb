{
 "cells": [
  {
   "cell_type": "code",
   "execution_count": 3,
   "id": "78b58458-5272-459a-a55f-9107ed6ca77c",
   "metadata": {},
   "outputs": [],
   "source": [
    "import pandas as pd\n",
    "import seaborn as sns\n",
    "import numpy as np\n",
    "import plotly.express as px\n",
    "from matplotlib import pyplot as plt\n",
    "%matplotlib inline"
   ]
  },
  {
   "cell_type": "code",
   "execution_count": 4,
   "id": "b7ffaaed-134b-4430-8101-f1860ae1015c",
   "metadata": {},
   "outputs": [],
   "source": [
    "file_path = r\"C:\\Users\\isabela.ribeiro\\Desktop\\cybersecurity_attacks.csv\""
   ]
  },
  {
   "cell_type": "code",
   "execution_count": 5,
   "id": "bad0a3eb-2983-4f17-bd9c-71dd9a18abc2",
   "metadata": {},
   "outputs": [],
   "source": [
    "df = pd.read_csv(file_path)"
   ]
  },
  {
   "cell_type": "code",
   "execution_count": null,
   "id": "513b0f7e-661f-40a1-b069-a4ccd08fb9fe",
   "metadata": {},
   "outputs": [],
   "source": [
    "df"
   ]
  },
  {
   "cell_type": "code",
   "execution_count": null,
   "id": "46ac1bbc-b5db-4e8b-a507-56a7ec3b0228",
   "metadata": {},
   "outputs": [],
   "source": [
    "df.describe()"
   ]
  },
  {
   "cell_type": "code",
   "execution_count": null,
   "id": "61604ed6-61a1-4448-9fd1-ec27d4498491",
   "metadata": {},
   "outputs": [],
   "source": [
    "print(df.shape)"
   ]
  },
  {
   "cell_type": "code",
   "execution_count": null,
   "id": "f8058131-5f57-422c-9e74-3f9ce0c6527c",
   "metadata": {},
   "outputs": [],
   "source": [
    "print(df.info())"
   ]
  },
  {
   "cell_type": "code",
   "execution_count": null,
   "id": "a37ae1e6-2cdb-40af-a156-cf6a0c0a7ca9",
   "metadata": {},
   "outputs": [],
   "source": [
    "print(df.nunique())"
   ]
  },
  {
   "cell_type": "code",
   "execution_count": 9,
   "id": "b81b0750-8f1a-468d-8a3a-6ef0be3d6983",
   "metadata": {},
   "outputs": [
    {
     "name": "stdout",
     "output_type": "stream",
     "text": [
      "Attack Type\n",
      "DDoS         33.5700\n",
      "Malware      33.2675\n",
      "Intrusion    33.1625\n",
      "Name: proportion, dtype: float64\n"
     ]
    }
   ],
   "source": [
    "#distribuição de variavel alvo\n",
    "print(df['Attack Type'].value_counts(normalize=True)*100)"
   ]
  },
  {
   "cell_type": "code",
   "execution_count": 10,
   "id": "460dc1f8-32d4-4514-8549-807fbc74b7d2",
   "metadata": {},
   "outputs": [
    {
     "name": "stdout",
     "output_type": "stream",
     "text": [
      "Timestamp                     0\n",
      "Source IP Address             0\n",
      "Destination IP Address        0\n",
      "Source Port                   0\n",
      "Destination Port              0\n",
      "Protocol                      0\n",
      "Packet Length                 0\n",
      "Packet Type                   0\n",
      "Traffic Type                  0\n",
      "Payload Data                  0\n",
      "Malware Indicators        20000\n",
      "Anomaly Scores                0\n",
      "Alerts/Warnings           20067\n",
      "Attack Type                   0\n",
      "Attack Signature              0\n",
      "Action Taken                  0\n",
      "Severity Level                0\n",
      "User Information              0\n",
      "Device Information            0\n",
      "Network Segment               0\n",
      "Geo-location Data             0\n",
      "Proxy Information         19851\n",
      "Firewall Logs             19961\n",
      "IDS/IPS Alerts            20050\n",
      "Log Source                    0\n",
      "dtype: int64\n"
     ]
    }
   ],
   "source": [
    "#valores ausentes por coluna\n",
    "print(df.isnull().sum())"
   ]
  },
  {
   "cell_type": "code",
   "execution_count": 11,
   "id": "5fa3fe5b-d1f5-49db-9367-f19539347d6c",
   "metadata": {},
   "outputs": [],
   "source": [
    "#verificar se existe valores negativos\n",
    "numeric_cols = df.select_dtypes(include=['int64','float64']).columns"
   ]
  },
  {
   "cell_type": "code",
   "execution_count": 12,
   "id": "3427e442-76b3-43e3-838c-1b2334e8ed5c",
   "metadata": {},
   "outputs": [
    {
     "name": "stdout",
     "output_type": "stream",
     "text": [
      "Coluna Source Port - sem valores negativos\n",
      "Coluna Destination Port - sem valores negativos\n",
      "Coluna Packet Length - sem valores negativos\n",
      "Coluna Anomaly Scores - sem valores negativos\n"
     ]
    }
   ],
   "source": [
    "for col in numeric_cols:\n",
    "    if (df[col]<0).any():\n",
    "        print(f\"Coluna {col} tem valores negativos\")\n",
    "    else:\n",
    "        print(f\"Coluna {col} - sem valores negativos\")"
   ]
  },
  {
   "cell_type": "code",
   "execution_count": 13,
   "id": "b48f0a95-ecd0-4914-ae93-923796d9d541",
   "metadata": {},
   "outputs": [
    {
     "data": {
      "image/png": "[encoded data removed]",
      "text/plain": [
       "<Figure size 800x500 with 1 Axes>"
      ]
     },
     "metadata": {},
     "output_type": "display_data"
    }
   ],
   "source": [
    "# Ver a relação entre protocolo e tipo de ataque\n",
    "plt.figure(figsize=(8,5))\n",
    "sns.countplot(x=df['Protocol'], hue=df['Attack Type'], palette=\"pastel\")\n",
    "plt.title(\"Distribuição de Protocolos por Tipo de Ataque\")\n",
    "plt.xticks(rotation=45)\n",
    "plt.show()"
   ]
  },
  {
   "cell_type": "code",
   "execution_count": 14,
   "id": "a773dea9-3e5a-4b37-a6db-8b8f7a546812",
   "metadata": {},
   "outputs": [
    {
     "name": "stderr",
     "output_type": "stream",
     "text": [
      "C:\\Users\\isabela.ribeiro\\AppData\\Local\\Temp\\ipykernel_6172\\933075370.py:2: FutureWarning: \n",
      "\n",
      "Passing `palette` without assigning `hue` is deprecated and will be removed in v0.14.0. Assign the `x` variable to `hue` and set `legend=False` for the same effect.\n",
      "\n",
      "  sns.countplot(x=df['Attack Type'], palette=\"viridis\")\n"
     ]
    },
    {
     "data": {
      "image/png": "[encoded data removed]",
      "text/plain": [
       "<Figure size 800x500 with 1 Axes>"
      ]
     },
     "metadata": {},
     "output_type": "display_data"
    }
   ],
   "source": [
    "plt.figure(figsize=(8,5))\n",
    "sns.countplot(x=df['Attack Type'], palette=\"viridis\")\n",
    "plt.title(\"Distribuição dos Tipos de Ataques\")\n",
    "plt.show()"
   ]
  },
  {
   "cell_type": "code",
   "execution_count": 15,
   "id": "2eabe1bb-f4f6-43ca-8fd1-51f505e9402a",
   "metadata": {},
   "outputs": [
    {
     "name": "stderr",
     "output_type": "stream",
     "text": [
      "C:\\Users\\isabela.ribeiro\\AppData\\Local\\Temp\\ipykernel_6172\\2900084270.py:3: FutureWarning: \n",
      "\n",
      "Passing `palette` without assigning `hue` is deprecated and will be removed in v0.14.0. Assign the `x` variable to `hue` and set `legend=False` for the same effect.\n",
      "\n",
      "  sns.boxplot(x=df['Attack Type'], y=df['Packet Length'], palette=\"coolwarm\")\n"
     ]
    },
    {
     "data": {
      "image/png": "[encoded data removed]",
      "text/plain": [
       "<Figure size 800x500 with 1 Axes>"
      ]
     },
     "metadata": {},
     "output_type": "display_data"
    }
   ],
   "source": [
    "# Ver como o tamanho dos pacotes varia entre os tipos de ataque\n",
    "plt.figure(figsize=(8,5))\n",
    "sns.boxplot(x=df['Attack Type'], y=df['Packet Length'], palette=\"coolwarm\")\n",
    "plt.title(\"Tamanho do Pacote por Tipo de Ataque\")\n",
    "plt.show()"
   ]
  },
  {
   "cell_type": "code",
   "execution_count": 16,
   "id": "5200c00b-64e3-4b8b-9d8b-c2b09c84baa6",
   "metadata": {},
   "outputs": [
    {
     "data": {
      "image/png": "[encoded data removed]",
      "text/plain": [
       "<Figure size 800x400 with 1 Axes>"
      ]
     },
     "metadata": {},
     "output_type": "display_data"
    },
    {
     "data": {
      "image/png": "[encoded data removed]",
      "text/plain": [
       "<Figure size 800x400 with 1 Axes>"
      ]
     },
     "metadata": {},
     "output_type": "display_data"
    },
    {
     "data": {
      "image/png": "[encoded data removed]",
      "text/plain": [
       "<Figure size 800x400 with 1 Axes>"
      ]
     },
     "metadata": {},
     "output_type": "display_data"
    },
    {
     "data": {
      "image/png": "[encoded data removed]",
      "text/plain": [
       "<Figure size 800x400 with 1 Axes>"
      ]
     },
     "metadata": {},
     "output_type": "display_data"
    }
   ],
   "source": [
    "for col in numeric_cols:\n",
    "    plt.figure(figsize=(8, 4))\n",
    "    sns.boxplot(data=df, x=col)\n",
    "    plt.show()\n"
   ]
  },
  {
   "cell_type": "code",
   "execution_count": 17,
   "id": "bc51a8b0-a119-4b38-828d-de278e0e52df",
   "metadata": {},
   "outputs": [
    {
     "ename": "NameError",
     "evalue": "name 'Q1' is not defined",
     "output_type": "error",
     "traceback": [
      "\u001b[1;31m---------------------------------------------------------------------------\u001b[0m",
      "\u001b[1;31mNameError\u001b[0m                                 Traceback (most recent call last)",
      "Cell \u001b[1;32mIn[17], line 1\u001b[0m\n\u001b[1;32m----> 1\u001b[0m lower_bound \u001b[38;5;241m=\u001b[39m Q1 \u001b[38;5;241m-\u001b[39m \u001b[38;5;241m3\u001b[39m \u001b[38;5;241m*\u001b[39m IQR\n\u001b[0;32m      2\u001b[0m upper_bound \u001b[38;5;241m=\u001b[39m Q3 \u001b[38;5;241m+\u001b[39m \u001b[38;5;241m3\u001b[39m \u001b[38;5;241m*\u001b[39m IQR\n",
      "\u001b[1;31mNameError\u001b[0m: name 'Q1' is not defined"
     ]
    }
   ],
   "source": [
    "lower_bound = Q1 - 3 * IQR\n",
    "upper_bound = Q3 + 3 * IQR"
   ]
  },
  {
   "cell_type": "code",
   "execution_count": null,
   "id": "9aa161de-d371-4602-b7c9-e83c003be6fe",
   "metadata": {},
   "outputs": [],
   "source": [
    "for col in numeric_cols:\n",
    "    print(f\"Valores extremos da coluna {col}:\")\n",
    "    print(\"Mínimo:\", df[col].min())\n",
    "    print(\"Máximo:\", df[col].max())\n",
    "    print(\"-----------\")"
   ]
  },
  {
   "cell_type": "code",
   "execution_count": 23,
   "id": "cce9f555-7b72-407f-99cd-b83f85491790",
   "metadata": {},
   "outputs": [
    {
     "name": "stdout",
     "output_type": "stream",
     "text": [
      "{}\n"
     ]
    }
   ],
   "source": [
    "# Criar um dicionário para armazenar os outliers detectados\n",
    "outliers_dict = {}\n",
    "\n",
    "for col in numeric_cols:\n",
    "    Q1 = df[col].quantile(0.25)  # Primeiro quartil (25%)\n",
    "    Q3 = df[col].quantile(0.75)  # Terceiro quartil (75%)\n",
    "    IQR = Q3 - Q1  # Intervalo interquartil\n",
    "    \n",
    "    # Definir limites para outliers\n",
    "    lower_bound = Q1 - 1.5 * IQR\n",
    "    upper_bound = Q3 + 1.5 * IQR\n",
    "    \n",
    "    # Filtrar os valores que estão fora desses limites\n",
    "    outliers = df[(df[col] < lower_bound) | (df[col] > upper_bound)]\n",
    "    \n",
    "    if not outliers.empty:\n",
    "        outliers_dict[col] = len(outliers)\n",
    "        print(f\"Coluna {col} tem {len(outliers)} outliers.\")\n",
    "\n",
    "# Exibir colunas com outliers\n",
    "print(outliers_dict)"
   ]
  },
  {
   "cell_type": "code",
   "execution_count": null,
   "id": "99d35c0d-68d7-4b90-b1b0-daffabe9167a",
   "metadata": {},
   "outputs": [],
   "source": [
    "# Supondo que df seja seu DataFrame e a coluna Timestamp seja do tipo string\n",
    "df['Timestamp'] = pd.to_datetime(df['Timestamp'])  # Convertendo para datetime\n",
    " \n",
    "# Criando a nova coluna de intervalo hora a hora\n",
    "df['Hour Range'] = df['Timestamp'].dt.hour  # Extraindo a hora\n",
    " \n",
    "# Criando a faixa de hora a hora, combinando as horas em intervalos de 1 hora\n",
    "df['Hour Range'] = df['Hour Range'].apply(lambda x: f'{x}-{x+1}' if x < 23 else '23-24')\n"
   ]
  },
  {
   "cell_type": "code",
   "execution_count": 25,
   "id": "7b5512fa-8b09-4046-a657-4ff43e660bda",
   "metadata": {},
   "outputs": [
    {
     "name": "stderr",
     "output_type": "stream",
     "text": [
      "C:\\Users\\isabela.ribeiro\\AppData\\Local\\Temp\\ipykernel_6172\\2562596582.py:2: FutureWarning: \n",
      "\n",
      "Passing `palette` without assigning `hue` is deprecated and will be removed in v0.14.0. Assign the `x` variable to `hue` and set `legend=False` for the same effect.\n",
      "\n",
      "  sns.boxplot(x=\"Attack Type\", y=\"Packet Length\", data=df, palette=\"pastel\")\n"
     ]
    },
    {
     "data": {
      "image/png": "[encoded data removed]",
      "text/plain": [
       "<Figure size 1000x600 with 1 Axes>"
      ]
     },
     "metadata": {},
     "output_type": "display_data"
    }
   ],
   "source": [
    "plt.figure(figsize=(10, 6))\n",
    "sns.boxplot(x=\"Attack Type\", y=\"Packet Length\", data=df, palette=\"pastel\")\n",
    "plt.xticks(rotation=45)\n",
    "plt.title(\"Distribuição de Packet Length por Tipo de Ataque\")\n",
    "plt.show()"
   ]
  },
  {
   "cell_type": "code",
   "execution_count": 27,
   "id": "991e4d7f-97b8-4ac8-a9b4-c9ce045fbd10",
   "metadata": {
    "scrolled": true
   },
   "outputs": [
    {
     "ename": "ValueError",
     "evalue": "could not convert string to float: '2023-05-30 06:33:58'",
     "output_type": "error",
     "traceback": [
      "\u001b[1;31m---------------------------------------------------------------------------\u001b[0m",
      "\u001b[1;31mValueError\u001b[0m                                Traceback (most recent call last)",
      "Cell \u001b[1;32mIn[27], line 2\u001b[0m\n\u001b[0;32m      1\u001b[0m plt\u001b[38;5;241m.\u001b[39mfigure(figsize\u001b[38;5;241m=\u001b[39m(\u001b[38;5;241m10\u001b[39m,\u001b[38;5;241m10\u001b[39m))\n\u001b[1;32m----> 2\u001b[0m sns\u001b[38;5;241m.\u001b[39mheatmap(df\u001b[38;5;241m.\u001b[39mcorr(),annot\u001b[38;5;241m=\u001b[39m\u001b[38;5;28;01mTrue\u001b[39;00m)\n\u001b[0;32m      3\u001b[0m plt\u001b[38;5;241m.\u001b[39mshow()\n",
      "File \u001b[1;32mC:\\ProgramData\\anaconda3\\Lib\\site-packages\\pandas\\core\\frame.py:11049\u001b[0m, in \u001b[0;36mDataFrame.corr\u001b[1;34m(self, method, min_periods, numeric_only)\u001b[0m\n\u001b[0;32m  11047\u001b[0m cols \u001b[38;5;241m=\u001b[39m data\u001b[38;5;241m.\u001b[39mcolumns\n\u001b[0;32m  11048\u001b[0m idx \u001b[38;5;241m=\u001b[39m cols\u001b[38;5;241m.\u001b[39mcopy()\n\u001b[1;32m> 11049\u001b[0m mat \u001b[38;5;241m=\u001b[39m data\u001b[38;5;241m.\u001b[39mto_numpy(dtype\u001b[38;5;241m=\u001b[39m\u001b[38;5;28mfloat\u001b[39m, na_value\u001b[38;5;241m=\u001b[39mnp\u001b[38;5;241m.\u001b[39mnan, copy\u001b[38;5;241m=\u001b[39m\u001b[38;5;28;01mFalse\u001b[39;00m)\n\u001b[0;32m  11051\u001b[0m \u001b[38;5;28;01mif\u001b[39;00m method \u001b[38;5;241m==\u001b[39m \u001b[38;5;124m\"\u001b[39m\u001b[38;5;124mpearson\u001b[39m\u001b[38;5;124m\"\u001b[39m:\n\u001b[0;32m  11052\u001b[0m     correl \u001b[38;5;241m=\u001b[39m libalgos\u001b[38;5;241m.\u001b[39mnancorr(mat, minp\u001b[38;5;241m=\u001b[39mmin_periods)\n",
      "File \u001b[1;32mC:\\ProgramData\\anaconda3\\Lib\\site-packages\\pandas\\core\\frame.py:1993\u001b[0m, in \u001b[0;36mDataFrame.to_numpy\u001b[1;34m(self, dtype, copy, na_value)\u001b[0m\n\u001b[0;32m   1991\u001b[0m \u001b[38;5;28;01mif\u001b[39;00m dtype \u001b[38;5;129;01mis\u001b[39;00m \u001b[38;5;129;01mnot\u001b[39;00m \u001b[38;5;28;01mNone\u001b[39;00m:\n\u001b[0;32m   1992\u001b[0m     dtype \u001b[38;5;241m=\u001b[39m np\u001b[38;5;241m.\u001b[39mdtype(dtype)\n\u001b[1;32m-> 1993\u001b[0m result \u001b[38;5;241m=\u001b[39m \u001b[38;5;28mself\u001b[39m\u001b[38;5;241m.\u001b[39m_mgr\u001b[38;5;241m.\u001b[39mas_array(dtype\u001b[38;5;241m=\u001b[39mdtype, copy\u001b[38;5;241m=\u001b[39mcopy, na_value\u001b[38;5;241m=\u001b[39mna_value)\n\u001b[0;32m   1994\u001b[0m \u001b[38;5;28;01mif\u001b[39;00m result\u001b[38;5;241m.\u001b[39mdtype \u001b[38;5;129;01mis\u001b[39;00m \u001b[38;5;129;01mnot\u001b[39;00m dtype:\n\u001b[0;32m   1995\u001b[0m     result \u001b[38;5;241m=\u001b[39m np\u001b[38;5;241m.\u001b[39masarray(result, dtype\u001b[38;5;241m=\u001b[39mdtype)\n",
      "File \u001b[1;32mC:\\ProgramData\\anaconda3\\Lib\\site-packages\\pandas\\core\\internals\\managers.py:1694\u001b[0m, in \u001b[0;36mBlockManager.as_array\u001b[1;34m(self, dtype, copy, na_value)\u001b[0m\n\u001b[0;32m   1692\u001b[0m         arr\u001b[38;5;241m.\u001b[39mflags\u001b[38;5;241m.\u001b[39mwriteable \u001b[38;5;241m=\u001b[39m \u001b[38;5;28;01mFalse\u001b[39;00m\n\u001b[0;32m   1693\u001b[0m \u001b[38;5;28;01melse\u001b[39;00m:\n\u001b[1;32m-> 1694\u001b[0m     arr \u001b[38;5;241m=\u001b[39m \u001b[38;5;28mself\u001b[39m\u001b[38;5;241m.\u001b[39m_interleave(dtype\u001b[38;5;241m=\u001b[39mdtype, na_value\u001b[38;5;241m=\u001b[39mna_value)\n\u001b[0;32m   1695\u001b[0m     \u001b[38;5;66;03m# The underlying data was copied within _interleave, so no need\u001b[39;00m\n\u001b[0;32m   1696\u001b[0m     \u001b[38;5;66;03m# to further copy if copy=True or setting na_value\u001b[39;00m\n\u001b[0;32m   1698\u001b[0m \u001b[38;5;28;01mif\u001b[39;00m na_value \u001b[38;5;129;01mis\u001b[39;00m lib\u001b[38;5;241m.\u001b[39mno_default:\n",
      "File \u001b[1;32mC:\\ProgramData\\anaconda3\\Lib\\site-packages\\pandas\\core\\internals\\managers.py:1753\u001b[0m, in \u001b[0;36mBlockManager._interleave\u001b[1;34m(self, dtype, na_value)\u001b[0m\n\u001b[0;32m   1751\u001b[0m     \u001b[38;5;28;01melse\u001b[39;00m:\n\u001b[0;32m   1752\u001b[0m         arr \u001b[38;5;241m=\u001b[39m blk\u001b[38;5;241m.\u001b[39mget_values(dtype)\n\u001b[1;32m-> 1753\u001b[0m     result[rl\u001b[38;5;241m.\u001b[39mindexer] \u001b[38;5;241m=\u001b[39m arr\n\u001b[0;32m   1754\u001b[0m     itemmask[rl\u001b[38;5;241m.\u001b[39mindexer] \u001b[38;5;241m=\u001b[39m \u001b[38;5;241m1\u001b[39m\n\u001b[0;32m   1756\u001b[0m \u001b[38;5;28;01mif\u001b[39;00m \u001b[38;5;129;01mnot\u001b[39;00m itemmask\u001b[38;5;241m.\u001b[39mall():\n",
      "\u001b[1;31mValueError\u001b[0m: could not convert string to float: '2023-05-30 06:33:58'"
     ]
    },
    {
     "data": {
      "text/plain": [
       "<Figure size 1000x1000 with 0 Axes>"
      ]
     },
     "metadata": {},
     "output_type": "display_data"
    }
   ],
   "source": [
    "plt.figure(figsize=(10,10))\n",
    "sns.heatmap(df.corr(),annot=True)\n",
    "plt.show()"
   ]
  },
  {
   "cell_type": "code",
   "execution_count": 29,
   "id": "e35f23d5-8fb2-4a20-aa11-73d4e7bc199e",
   "metadata": {},
   "outputs": [
    {
     "name": "stdout",
     "output_type": "stream",
     "text": [
      "['Malware' 'DDoS' 'Intrusion']\n"
     ]
    }
   ],
   "source": [
    "unique_values = df['Attack Type'].unique()\n",
    "print(unique_values)"
   ]
  },
  {
   "cell_type": "code",
   "execution_count": 31,
   "id": "b0f48d72-d01d-4fa1-b8f1-33a2a3580511",
   "metadata": {},
   "outputs": [
    {
     "data": {
      "image/png": "[encoded data removed]",
      "text/plain": [
       "<Figure size 640x480 with 1 Axes>"
      ]
     },
     "metadata": {},
     "output_type": "display_data"
    }
   ],
   "source": [
    "import seaborn as sns\n",
    "import matplotlib.pyplot as plt\n",
    "\n",
    "sns.histplot(df['Packet Length'], bins=50, kde=True)\n",
    "plt.title(\"Distribuição dos Tamanhos de Pacotes\")\n",
    "plt.xlabel(\"Tamanho do Pacote (bytes)\")\n",
    "plt.ylabel(\"Frequência\")\n",
    "plt.show()"
   ]
  },
  {
   "cell_type": "code",
   "execution_count": 33,
   "id": "d40ed563-7fca-45cf-9c62-22189f6ecbef",
   "metadata": {},
   "outputs": [
    {
     "data": {
      "image/png": "[encoded data removed]",
      "text/plain": [
       "<Figure size 1000x600 with 1 Axes>"
      ]
     },
     "metadata": {},
     "output_type": "display_data"
    }
   ],
   "source": [
    "#compare size with attack type\n",
    "import seaborn as sns\n",
    "import matplotlib.pyplot as plt\n",
    "\n",
    "plt.figure(figsize=(10,6))\n",
    "sns.violinplot(x=df['Attack Type'], y=df['Packet Length'], inner=\"quartile\")\n",
    "plt.title(\"Distribuição do Tamanho do Pacote por Tipo de Ataque\")\n",
    "plt.xlabel(\"Tipo de Ataque\")\n",
    "plt.ylabel(\"Tamanho do Pacote (bytes)\")\n",
    "plt.xticks(rotation=15)\n",
    "plt.show()\n"
   ]
  },
  {
   "cell_type": "code",
   "execution_count": 47,
   "id": "98dfd63b-6ca9-4d52-a599-8df8af8144af",
   "metadata": {},
   "outputs": [
    {
     "name": "stdout",
     "output_type": "stream",
     "text": [
      "               mean  min   max\n",
      "Attack Type                   \n",
      "DDoS         785.35   64  1500\n",
      "Intrusion    780.92   64  1500\n",
      "Malware      778.05   64  1500\n"
     ]
    }
   ],
   "source": [
    "# Agrupar por tipo de ataque e calcular estatísticas\n",
    "attack_stats = df.groupby('Attack Type')['Packet Length'].agg(['mean', 'min', 'max'])\n",
    "\n",
    "# Exibir resultado\n",
    "print(attack_stats.round(2))\n"
   ]
  },
  {
   "cell_type": "code",
   "execution_count": 49,
   "id": "667ce0a4-0917-4b82-bcd5-1d0d22ad7540",
   "metadata": {},
   "outputs": [
    {
     "name": "stdout",
     "output_type": "stream",
     "text": [
      "               count    mean     std   min    25%    50%     75%     max\n",
      "Attack Type                                                             \n",
      "DDoS         13428.0  785.35  416.69  64.0  424.0  786.0  1150.0  1500.0\n",
      "Intrusion    13265.0  780.92  418.21  64.0  412.0  785.0  1145.0  1500.0\n",
      "Malware      13307.0  778.05  413.22  64.0  426.0  777.0  1135.0  1500.0\n"
     ]
    }
   ],
   "source": [
    "#Resumo estatístico\n",
    "print(df.groupby('Attack Type')['Packet Length'].describe().round(2))"
   ]
  },
  {
   "cell_type": "code",
   "execution_count": 61,
   "id": "af701fd0-5b33-4c93-86ee-cfb75b2ac3c1",
   "metadata": {},
   "outputs": [
    {
     "name": "stdout",
     "output_type": "stream",
     "text": [
      "Packet Size Category\n",
      "Medium    19658\n",
      "Large     10201\n",
      "Small     10141\n",
      "Name: count, dtype: int64\n"
     ]
    }
   ],
   "source": [
    "# Pequeno → Pacotes menores que 420 bytes (1º quartil).\n",
    "# Médio → Pacotes entre 420 e 1143 bytes (2º e 3º quartil).\n",
    "# Grande → Pacotes maiores que 1143 bytes (acima do 3º quartil).\n",
    "\n",
    "def classificar_pacote(Size):\n",
    "    if Size < 426:\n",
    "        return \"Small\"\n",
    "    elif 426 <= Size <= 1135:\n",
    "        return \"Medium\"\n",
    "    else:\n",
    "        return \"Large\"\n",
    "\n",
    "df['Packet Size Category'] = df['Packet Length'].apply(classificar_pacote)\n",
    "\n",
    "# Contagem de cada categoria\n",
    "print(df['Packet Size Category'].value_counts())\n"
   ]
  },
  {
   "cell_type": "code",
   "execution_count": 63,
   "id": "9afd232d-df8c-4c26-93f9-cf795bc6fa5e",
   "metadata": {},
   "outputs": [
    {
     "name": "stdout",
     "output_type": "stream",
     "text": [
      "Index(['Timestamp', 'Source IP Address', 'Destination IP Address',\n",
      "       'Source Port', 'Destination Port', 'Protocol', 'Packet Length',\n",
      "       'Packet Type', 'Traffic Type', 'Payload Data', 'Malware Indicators',\n",
      "       'Anomaly Scores', 'Alerts/Warnings', 'Attack Type', 'Attack Signature',\n",
      "       'Action Taken', 'Severity Level', 'User Information',\n",
      "       'Device Information', 'Network Segment', 'Geo-location Data',\n",
      "       'Proxy Information', 'Firewall Logs', 'IDS/IPS Alerts', 'Log Source',\n",
      "       'Packet Size Category'],\n",
      "      dtype='object')\n"
     ]
    }
   ],
   "source": [
    "print(df.columns)"
   ]
  },
  {
   "cell_type": "code",
   "execution_count": 67,
   "id": "52bb7556-9c8d-4014-9dae-62e4a291815e",
   "metadata": {
    "scrolled": true
   },
   "outputs": [
    {
     "name": "stdout",
     "output_type": "stream",
     "text": [
      "['HTTP' 'DNS' 'FTP']\n"
     ]
    }
   ],
   "source": [
    "unique_values_ = df['Traffic Type'].unique()\n",
    "print(unique_values_)"
   ]
  },
  {
   "cell_type": "code",
   "execution_count": 93,
   "id": "88d7179a-64a6-46f2-b3d5-7dd0432a560b",
   "metadata": {},
   "outputs": [
    {
     "name": "stdout",
     "output_type": "stream",
     "text": [
      "0        2023\n",
      "1        2020\n",
      "2        2022\n",
      "3        2023\n",
      "4        2023\n",
      "         ... \n",
      "39995    2023\n",
      "39996    2023\n",
      "39997    2022\n",
      "39998    2023\n",
      "39999    2023\n",
      "Name: year, Length: 40000, dtype: int32 0         5\n",
      "1         8\n",
      "2        11\n",
      "3         7\n",
      "4         7\n",
      "         ..\n",
      "39995     5\n",
      "39996     3\n",
      "39997     3\n",
      "39998     9\n",
      "39999    10\n",
      "Name: month, Length: 40000, dtype: int32 0        30\n",
      "1        26\n",
      "2        13\n",
      "3         2\n",
      "4        16\n",
      "         ..\n",
      "39995    26\n",
      "39996    27\n",
      "39997    31\n",
      "39998    22\n",
      "39999    10\n",
      "Name: day, Length: 40000, dtype: int32 0        06:33:58\n",
      "1        07:08:30\n",
      "2        08:23:25\n",
      "3        10:38:46\n",
      "4        13:11:07\n",
      "           ...   \n",
      "39995    14:08:42\n",
      "39996    00:38:27\n",
      "39997    01:45:49\n",
      "39998    18:32:38\n",
      "39999    11:59:52\n",
      "Name: time, Length: 40000, dtype: object\n"
     ]
    }
   ],
   "source": [
    "# Garantir que a coluna 'timestamp' esteja no formato datetime\n",
    "df['Timestamp'] = pd.to_datetime(df['Timestamp'])\n",
    "\n",
    "# Extrair o ano, mês, dia e hora da coluna 'timestamp'\n",
    "df['year'] = df['Timestamp'].dt.year\n",
    "df['month'] = df['Timestamp'].dt.month\n",
    "df['day'] = df['Timestamp'].dt.day\n",
    "df['time'] = df['Timestamp'].dt.strftime('%H:%M:%S')  # Formato de hora (HH:MM:SS)\n",
    "\n",
    "# Exibir o DataFrame resultante\n",
    "print(df['year'], df['month'], df['day'],df['time'])\n"
   ]
  },
  {
   "cell_type": "code",
   "execution_count": 39,
   "id": "280daa02-b715-46b7-9dac-77f0217a31d9",
   "metadata": {},
   "outputs": [
    {
     "name": "stdout",
     "output_type": "stream",
     "text": [
      "count    40000.000000\n",
      "mean     33150.868650\n",
      "std      18574.668842\n",
      "min       1024.000000\n",
      "25%      17094.750000\n",
      "50%      33004.500000\n",
      "75%      49287.000000\n",
      "max      65535.000000\n",
      "Name: Destination Port, dtype: float64\n"
     ]
    }
   ],
   "source": [
    "print(df['Destination Port'].describe())"
   ]
  },
  {
   "cell_type": "markdown",
   "id": "510e1fef-22f1-4d47-9b5e-07551096e177",
   "metadata": {},
   "source": [
    "GOAL: GENERATE ALL POSSIBLE COMBINATIONS BETWEEN VARIABLES"
   ]
  },
  {
   "cell_type": "raw",
   "id": "7b122d68-1c90-485e-af39-73626be0bc75",
   "metadata": {},
   "source": [
    "## DEFINITION OF POSSIBLE VALUES TO ALERT VARIABLES ##\n",
    "\n",
    "firewall = [True, False]\n",
    "ids_ips = [True, False]\n",
    "ioc = [True, False]\n",
    "alert_warning = [True, False]\n",
    "proxy_hidden = [True, False]\n",
    "\n",
    "## (POSSIBLE) RANGES TO VARIABLES ##"
   ]
  },
  {
   "cell_type": "code",
   "execution_count": 11,
   "id": "6c9a66c4-d51c-4e79-b4c6-b20fe44ba0eb",
   "metadata": {},
   "outputs": [],
   "source": [
    "import itertools\n",
    "import pandas as pd"
   ]
  },
  {
   "cell_type": "code",
   "execution_count": 29,
   "id": "40a81ef8-c3e4-4626-a923-718c6f9742c7",
   "metadata": {},
   "outputs": [
    {
     "data": {
      "text/html": [
       "<div>\n",
       "<style scoped>\n",
       "    .dataframe tbody tr th:only-of-type {\n",
       "        vertical-align: middle;\n",
       "    }\n",
       "\n",
       "    .dataframe tbody tr th {\n",
       "        vertical-align: top;\n",
       "    }\n",
       "\n",
       "    .dataframe thead th {\n",
       "        text-align: right;\n",
       "    }\n",
       "</style>\n",
       "<table border=\"1\" class=\"dataframe\">\n",
       "  <thead>\n",
       "    <tr style=\"text-align: right;\">\n",
       "      <th></th>\n",
       "      <th>Timestamp</th>\n",
       "      <th>Source IP Address</th>\n",
       "      <th>Destination IP Address</th>\n",
       "      <th>Source Port</th>\n",
       "      <th>Destination Port</th>\n",
       "      <th>Protocol</th>\n",
       "      <th>Packet Length</th>\n",
       "      <th>Packet Type</th>\n",
       "      <th>Traffic Type</th>\n",
       "      <th>Payload Data</th>\n",
       "      <th>...</th>\n",
       "      <th>Log Source</th>\n",
       "      <th>Firewall Logs Status</th>\n",
       "      <th>IDS/IPS Alerts Status</th>\n",
       "      <th>Malware Indicators Status</th>\n",
       "      <th>Alerts/Warnings Status</th>\n",
       "      <th>Proxy Status</th>\n",
       "      <th>_Destination_Port_Range</th>\n",
       "      <th>_Source_Port_Range</th>\n",
       "      <th>_Packet_Length_Range</th>\n",
       "      <th>Anomaly_Score_Range</th>\n",
       "    </tr>\n",
       "  </thead>\n",
       "  <tbody>\n",
       "    <tr>\n",
       "      <th>0</th>\n",
       "      <td>2023-05-30 06:33:58</td>\n",
       "      <td>103.216.15.12</td>\n",
       "      <td>84.9.164.252</td>\n",
       "      <td>31225</td>\n",
       "      <td>17616</td>\n",
       "      <td>ICMP</td>\n",
       "      <td>503</td>\n",
       "      <td>Data</td>\n",
       "      <td>HTTP</td>\n",
       "      <td>Qui natus odio asperiores nam. Optio nobis ius...</td>\n",
       "      <td>...</td>\n",
       "      <td>Server</td>\n",
       "      <td>True</td>\n",
       "      <td>False</td>\n",
       "      <td>True</td>\n",
       "      <td>False</td>\n",
       "      <td>False</td>\n",
       "      <td>10.000 to 20.000</td>\n",
       "      <td>30.000 to 40.000</td>\n",
       "      <td>Medium</td>\n",
       "      <td>Medium</td>\n",
       "    </tr>\n",
       "    <tr>\n",
       "      <th>1</th>\n",
       "      <td>2020-08-26 07:08:30</td>\n",
       "      <td>78.199.217.198</td>\n",
       "      <td>66.191.137.154</td>\n",
       "      <td>17245</td>\n",
       "      <td>48166</td>\n",
       "      <td>ICMP</td>\n",
       "      <td>1174</td>\n",
       "      <td>Data</td>\n",
       "      <td>HTTP</td>\n",
       "      <td>Aperiam quos modi officiis veritatis rem. Omni...</td>\n",
       "      <td>...</td>\n",
       "      <td>Firewall</td>\n",
       "      <td>True</td>\n",
       "      <td>False</td>\n",
       "      <td>True</td>\n",
       "      <td>False</td>\n",
       "      <td>False</td>\n",
       "      <td>40.000 to 50.000</td>\n",
       "      <td>10.000 to 20.000</td>\n",
       "      <td>Very Large</td>\n",
       "      <td>High</td>\n",
       "    </tr>\n",
       "    <tr>\n",
       "      <th>2</th>\n",
       "      <td>2022-11-13 08:23:25</td>\n",
       "      <td>63.79.210.48</td>\n",
       "      <td>198.219.82.17</td>\n",
       "      <td>16811</td>\n",
       "      <td>53600</td>\n",
       "      <td>UDP</td>\n",
       "      <td>306</td>\n",
       "      <td>Control</td>\n",
       "      <td>HTTP</td>\n",
       "      <td>Perferendis sapiente vitae soluta. Hic delectu...</td>\n",
       "      <td>...</td>\n",
       "      <td>Firewall</td>\n",
       "      <td>True</td>\n",
       "      <td>True</td>\n",
       "      <td>True</td>\n",
       "      <td>True</td>\n",
       "      <td>False</td>\n",
       "      <td>50.000 to 60.000</td>\n",
       "      <td>10.000 to 20.000</td>\n",
       "      <td>Small</td>\n",
       "      <td>Critical</td>\n",
       "    </tr>\n",
       "    <tr>\n",
       "      <th>3</th>\n",
       "      <td>2023-07-02 10:38:46</td>\n",
       "      <td>163.42.196.10</td>\n",
       "      <td>101.228.192.255</td>\n",
       "      <td>20018</td>\n",
       "      <td>32534</td>\n",
       "      <td>UDP</td>\n",
       "      <td>385</td>\n",
       "      <td>Data</td>\n",
       "      <td>HTTP</td>\n",
       "      <td>Totam maxime beatae expedita explicabo porro l...</td>\n",
       "      <td>...</td>\n",
       "      <td>Firewall</td>\n",
       "      <td>False</td>\n",
       "      <td>True</td>\n",
       "      <td>False</td>\n",
       "      <td>True</td>\n",
       "      <td>False</td>\n",
       "      <td>30.000 to 40.000</td>\n",
       "      <td>20.000 to 30.000</td>\n",
       "      <td>Small</td>\n",
       "      <td>Low</td>\n",
       "    </tr>\n",
       "    <tr>\n",
       "      <th>4</th>\n",
       "      <td>2023-07-16 13:11:07</td>\n",
       "      <td>71.166.185.76</td>\n",
       "      <td>189.243.174.238</td>\n",
       "      <td>6131</td>\n",
       "      <td>26646</td>\n",
       "      <td>TCP</td>\n",
       "      <td>1462</td>\n",
       "      <td>Data</td>\n",
       "      <td>DNS</td>\n",
       "      <td>Odit nesciunt dolorem nisi iste iusto. Animi v...</td>\n",
       "      <td>...</td>\n",
       "      <td>Firewall</td>\n",
       "      <td>False</td>\n",
       "      <td>True</td>\n",
       "      <td>False</td>\n",
       "      <td>True</td>\n",
       "      <td>False</td>\n",
       "      <td>20.000 to 30.000</td>\n",
       "      <td>5.000 to 10.000</td>\n",
       "      <td>Very Large</td>\n",
       "      <td>Low</td>\n",
       "    </tr>\n",
       "    <tr>\n",
       "      <th>...</th>\n",
       "      <td>...</td>\n",
       "      <td>...</td>\n",
       "      <td>...</td>\n",
       "      <td>...</td>\n",
       "      <td>...</td>\n",
       "      <td>...</td>\n",
       "      <td>...</td>\n",
       "      <td>...</td>\n",
       "      <td>...</td>\n",
       "      <td>...</td>\n",
       "      <td>...</td>\n",
       "      <td>...</td>\n",
       "      <td>...</td>\n",
       "      <td>...</td>\n",
       "      <td>...</td>\n",
       "      <td>...</td>\n",
       "      <td>...</td>\n",
       "      <td>...</td>\n",
       "      <td>...</td>\n",
       "      <td>...</td>\n",
       "      <td>...</td>\n",
       "    </tr>\n",
       "    <tr>\n",
       "      <th>39995</th>\n",
       "      <td>2023-05-26 14:08:42</td>\n",
       "      <td>26.36.109.26</td>\n",
       "      <td>121.100.75.240</td>\n",
       "      <td>31005</td>\n",
       "      <td>6764</td>\n",
       "      <td>UDP</td>\n",
       "      <td>1428</td>\n",
       "      <td>Control</td>\n",
       "      <td>HTTP</td>\n",
       "      <td>Quibusdam ullam consequatur consequuntur accus...</td>\n",
       "      <td>...</td>\n",
       "      <td>Firewall</td>\n",
       "      <td>True</td>\n",
       "      <td>True</td>\n",
       "      <td>True</td>\n",
       "      <td>False</td>\n",
       "      <td>False</td>\n",
       "      <td>5.000 to 10.000</td>\n",
       "      <td>30.000 to 40.000</td>\n",
       "      <td>Very Large</td>\n",
       "      <td>Medium</td>\n",
       "    </tr>\n",
       "    <tr>\n",
       "      <th>39996</th>\n",
       "      <td>2023-03-27 00:38:27</td>\n",
       "      <td>17.21.163.81</td>\n",
       "      <td>196.108.134.78</td>\n",
       "      <td>2553</td>\n",
       "      <td>28091</td>\n",
       "      <td>UDP</td>\n",
       "      <td>1184</td>\n",
       "      <td>Control</td>\n",
       "      <td>HTTP</td>\n",
       "      <td>Quaerat neque esse. Animi expedita natus commo...</td>\n",
       "      <td>...</td>\n",
       "      <td>Firewall</td>\n",
       "      <td>True</td>\n",
       "      <td>False</td>\n",
       "      <td>True</td>\n",
       "      <td>False</td>\n",
       "      <td>False</td>\n",
       "      <td>20.000 to 30.000</td>\n",
       "      <td>1.000 to 5.000</td>\n",
       "      <td>Very Large</td>\n",
       "      <td>Medium</td>\n",
       "    </tr>\n",
       "    <tr>\n",
       "      <th>39997</th>\n",
       "      <td>2022-03-31 01:45:49</td>\n",
       "      <td>162.35.217.57</td>\n",
       "      <td>98.107.0.15</td>\n",
       "      <td>22505</td>\n",
       "      <td>25152</td>\n",
       "      <td>UDP</td>\n",
       "      <td>1043</td>\n",
       "      <td>Data</td>\n",
       "      <td>DNS</td>\n",
       "      <td>Enim at aspernatur illum. Saepe numquam eligen...</td>\n",
       "      <td>...</td>\n",
       "      <td>Server</td>\n",
       "      <td>True</td>\n",
       "      <td>True</td>\n",
       "      <td>True</td>\n",
       "      <td>False</td>\n",
       "      <td>False</td>\n",
       "      <td>20.000 to 30.000</td>\n",
       "      <td>20.000 to 30.000</td>\n",
       "      <td>Large</td>\n",
       "      <td>Medium</td>\n",
       "    </tr>\n",
       "    <tr>\n",
       "      <th>39998</th>\n",
       "      <td>2023-09-22 18:32:38</td>\n",
       "      <td>208.72.233.205</td>\n",
       "      <td>173.79.112.252</td>\n",
       "      <td>20013</td>\n",
       "      <td>2703</td>\n",
       "      <td>UDP</td>\n",
       "      <td>483</td>\n",
       "      <td>Data</td>\n",
       "      <td>FTP</td>\n",
       "      <td>Officiis dolorem sed harum provident earum dis...</td>\n",
       "      <td>...</td>\n",
       "      <td>Server</td>\n",
       "      <td>True</td>\n",
       "      <td>False</td>\n",
       "      <td>True</td>\n",
       "      <td>True</td>\n",
       "      <td>False</td>\n",
       "      <td>1.000 to 5.000</td>\n",
       "      <td>20.000 to 30.000</td>\n",
       "      <td>Medium</td>\n",
       "      <td>Critical</td>\n",
       "    </tr>\n",
       "    <tr>\n",
       "      <th>39999</th>\n",
       "      <td>2023-10-10 11:59:52</td>\n",
       "      <td>14.102.21.108</td>\n",
       "      <td>109.198.45.7</td>\n",
       "      <td>50137</td>\n",
       "      <td>55575</td>\n",
       "      <td>ICMP</td>\n",
       "      <td>1175</td>\n",
       "      <td>Control</td>\n",
       "      <td>HTTP</td>\n",
       "      <td>Eligendi omnis voluptate nihil voluptatibus do...</td>\n",
       "      <td>...</td>\n",
       "      <td>Firewall</td>\n",
       "      <td>True</td>\n",
       "      <td>True</td>\n",
       "      <td>False</td>\n",
       "      <td>True</td>\n",
       "      <td>False</td>\n",
       "      <td>50.000 to 60.000</td>\n",
       "      <td>50.000 to 60.000</td>\n",
       "      <td>Very Large</td>\n",
       "      <td>Medium</td>\n",
       "    </tr>\n",
       "  </tbody>\n",
       "</table>\n",
       "<p>40000 rows × 34 columns</p>\n",
       "</div>"
      ],
      "text/plain": [
       "                 Timestamp Source IP Address Destination IP Address  \\\n",
       "0      2023-05-30 06:33:58     103.216.15.12           84.9.164.252   \n",
       "1      2020-08-26 07:08:30    78.199.217.198         66.191.137.154   \n",
       "2      2022-11-13 08:23:25      63.79.210.48          198.219.82.17   \n",
       "3      2023-07-02 10:38:46     163.42.196.10        101.228.192.255   \n",
       "4      2023-07-16 13:11:07     71.166.185.76        189.243.174.238   \n",
       "...                    ...               ...                    ...   \n",
       "39995  2023-05-26 14:08:42      26.36.109.26         121.100.75.240   \n",
       "39996  2023-03-27 00:38:27      17.21.163.81         196.108.134.78   \n",
       "39997  2022-03-31 01:45:49     162.35.217.57            98.107.0.15   \n",
       "39998  2023-09-22 18:32:38    208.72.233.205         173.79.112.252   \n",
       "39999  2023-10-10 11:59:52     14.102.21.108           109.198.45.7   \n",
       "\n",
       "       Source Port  Destination Port Protocol  Packet Length Packet Type  \\\n",
       "0            31225             17616     ICMP            503        Data   \n",
       "1            17245             48166     ICMP           1174        Data   \n",
       "2            16811             53600      UDP            306     Control   \n",
       "3            20018             32534      UDP            385        Data   \n",
       "4             6131             26646      TCP           1462        Data   \n",
       "...            ...               ...      ...            ...         ...   \n",
       "39995        31005              6764      UDP           1428     Control   \n",
       "39996         2553             28091      UDP           1184     Control   \n",
       "39997        22505             25152      UDP           1043        Data   \n",
       "39998        20013              2703      UDP            483        Data   \n",
       "39999        50137             55575     ICMP           1175     Control   \n",
       "\n",
       "      Traffic Type                                       Payload Data  ...  \\\n",
       "0             HTTP  Qui natus odio asperiores nam. Optio nobis ius...  ...   \n",
       "1             HTTP  Aperiam quos modi officiis veritatis rem. Omni...  ...   \n",
       "2             HTTP  Perferendis sapiente vitae soluta. Hic delectu...  ...   \n",
       "3             HTTP  Totam maxime beatae expedita explicabo porro l...  ...   \n",
       "4              DNS  Odit nesciunt dolorem nisi iste iusto. Animi v...  ...   \n",
       "...            ...                                                ...  ...   \n",
       "39995         HTTP  Quibusdam ullam consequatur consequuntur accus...  ...   \n",
       "39996         HTTP  Quaerat neque esse. Animi expedita natus commo...  ...   \n",
       "39997          DNS  Enim at aspernatur illum. Saepe numquam eligen...  ...   \n",
       "39998          FTP  Officiis dolorem sed harum provident earum dis...  ...   \n",
       "39999         HTTP  Eligendi omnis voluptate nihil voluptatibus do...  ...   \n",
       "\n",
       "      Log Source  Firewall Logs Status IDS/IPS Alerts Status  \\\n",
       "0         Server                  True                 False   \n",
       "1       Firewall                  True                 False   \n",
       "2       Firewall                  True                  True   \n",
       "3       Firewall                 False                  True   \n",
       "4       Firewall                 False                  True   \n",
       "...          ...                   ...                   ...   \n",
       "39995   Firewall                  True                  True   \n",
       "39996   Firewall                  True                 False   \n",
       "39997     Server                  True                  True   \n",
       "39998     Server                  True                 False   \n",
       "39999   Firewall                  True                  True   \n",
       "\n",
       "      Malware Indicators Status Alerts/Warnings Status Proxy Status  \\\n",
       "0                          True                  False        False   \n",
       "1                          True                  False        False   \n",
       "2                          True                   True        False   \n",
       "3                         False                   True        False   \n",
       "4                         False                   True        False   \n",
       "...                         ...                    ...          ...   \n",
       "39995                      True                  False        False   \n",
       "39996                      True                  False        False   \n",
       "39997                      True                  False        False   \n",
       "39998                      True                   True        False   \n",
       "39999                     False                   True        False   \n",
       "\n",
       "      _Destination_Port_Range _Source_Port_Range _Packet_Length_Range  \\\n",
       "0            10.000 to 20.000   30.000 to 40.000               Medium   \n",
       "1            40.000 to 50.000   10.000 to 20.000           Very Large   \n",
       "2            50.000 to 60.000   10.000 to 20.000                Small   \n",
       "3            30.000 to 40.000   20.000 to 30.000                Small   \n",
       "4            20.000 to 30.000    5.000 to 10.000           Very Large   \n",
       "...                       ...                ...                  ...   \n",
       "39995         5.000 to 10.000   30.000 to 40.000           Very Large   \n",
       "39996        20.000 to 30.000     1.000 to 5.000           Very Large   \n",
       "39997        20.000 to 30.000   20.000 to 30.000                Large   \n",
       "39998          1.000 to 5.000   20.000 to 30.000               Medium   \n",
       "39999        50.000 to 60.000   50.000 to 60.000           Very Large   \n",
       "\n",
       "      Anomaly_Score_Range  \n",
       "0                  Medium  \n",
       "1                    High  \n",
       "2                Critical  \n",
       "3                     Low  \n",
       "4                     Low  \n",
       "...                   ...  \n",
       "39995              Medium  \n",
       "39996              Medium  \n",
       "39997              Medium  \n",
       "39998            Critical  \n",
       "39999              Medium  \n",
       "\n",
       "[40000 rows x 34 columns]"
      ]
     },
     "execution_count": 29,
     "metadata": {},
     "output_type": "execute_result"
    }
   ],
   "source": [
    "# Carregar o dataset corretamente\n",
    "file_path = r\"C:\\Users\\isabela.ribeiro\\Desktop\\cybersecurity_attacks.csv\"\n",
    "df = pd.read_csv(file_path)\n",
    "\n",
    "# Criando colunas booleanas\n",
    "df[\"Firewall Logs Status\"] = df[\"Firewall Logs\"].apply(lambda x: True if x == \"Log Data\" else False)\n",
    "df[\"IDS/IPS Alerts Status\"] = df[\"IDS/IPS Alerts\"].apply(lambda x: True if x == \"Alert Data\" else False)\n",
    "df[\"Malware Indicators Status\"] = df[\"Malware Indicators\"].apply(lambda x: True if x == \"IoC Detected\" else False)\n",
    "df[\"Alerts/Warnings Status\"] = df[\"Alerts/Warnings\"].apply(lambda x: True if x == \"Alert Triggered\" else False)\n",
    "df[\"Proxy Status\"] = df[\"Proxy Information\"].apply(lambda x: True if x == \"Hidden\" else False)\n",
    "\n",
    "# Criando colunas de range - usando df e não cybersecurity_attacks\n",
    "df['_Destination_Port_Range'] = df['Destination Port'].apply(\n",
    "     lambda value: \"< 1.000\" if value < 1000 else \n",
    "                   \"1.000 to 5.000\" if 1000 <= value < 5000 else \n",
    "                   \"5.000 to 10.000\" if 5000 <= value < 10000 else \n",
    "                   \"10.000 to 20.000\" if 10000 <= value < 20000 else \n",
    "                   \"20.000 to 30.000\" if 20000 <= value < 30000 else \n",
    "                   \"30.000 to 40.000\" if 30000 <= value < 40000 else \n",
    "                   \"40.000 to 50.000\" if 40000 <= value < 50000 else \n",
    "                   \"50.000 to 60.000\" if 50000 <= value < 60000 else \n",
    "                   \"60.000 to 70.000\" if 60000 <= value <= 70000 else \n",
    "                   \"Above 70.000\"\n",
    " )\n",
    "\n",
    "df['_Source_Port_Range'] = df['Source Port'].apply(\n",
    "     lambda value: \"< 1.000\" if value < 1000 else \n",
    "                   \"1.000 to 5.000\" if 1000 <= value < 5000 else \n",
    "                   \"5.000 to 10.000\" if 5000 <= value < 10000 else \n",
    "                   \"10.000 to 20.000\" if 10000 <= value < 20000 else \n",
    "                   \"20.000 to 30.000\" if 20000 <= value < 30000 else \n",
    "                   \"30.000 to 40.000\" if 30000 <= value < 40000 else \n",
    "                   \"40.000 to 50.000\" if 40000 <= value < 50000 else \n",
    "                   \"50.000 to 60.000\" if 50000 <= value < 60000 else \n",
    "                   \"60.000 to 70.000\" if 60000 <= value <= 70000 else \n",
    "                   \"Above 70.000\"\n",
    " )\n",
    "\n",
    "## SHOULD I DO LESS RANGES BASED ON STATISTICS?\n",
    "\n",
    "df['_Packet_Length_Range'] = df['Packet Length'].apply(\n",
    "    lambda value: \"Small\" if value <= 420 else \n",
    "                  \"Medium\" if value <= 782 else \n",
    "                  \"Large\" if value <= 1143 else \n",
    "                  \"Very Large\"\n",
    ")\n",
    "# \"Small (≤ 420)\" if value <= 420 else \n",
    "# \"Medium (421 - 782)\" if value <= 782 else \n",
    "# \"Large (783 - 1143)\" if value <= 1143 else \n",
    "# \"Very Large (1144 - 1500)\"\n",
    "  ## BASED IN: \n",
    "# df['Packet Length'].describe()\n",
    "# mean       781.452725 \n",
    "# std        416.044192\n",
    "# min         64.000000\n",
    "# 25%        420.000000\n",
    "# 50%        782.000000\n",
    "# 75%       1143.000000\n",
    "# max       1500.000000\n",
    "\n",
    "df[\"Anomaly_Score_Range\"] = df[\"Anomaly Scores\"].apply(\n",
    "    lambda x: \"Low\" if x <= 25.15 else\n",
    "              \"Medium\" if x <= 50.34 else\n",
    "              \"High\" if x <= 75.03 else\n",
    "              \"Critical\"\n",
    ")\n",
    "\n",
    "# \"Low (0-25)\" if x <= 25.15 else\n",
    "# \"Medium (25-50)\" if x <= 50.34 else\n",
    "# \"High (50-75)\" if x <= 75.03 else\n",
    "# \"Critical (75-100)\"\n",
    "  ## BASED IN:\n",
    "# df['Anomaly Scores'].describe()\n",
    "# count    40000.000000\n",
    "# mean        50.113473\n",
    "# std         28.853598\n",
    "# min          0.000000\n",
    "# 25%         25.150000\n",
    "# 50%         50.345000\n",
    "# 75%         75.030000\n",
    "# max        100.000000\n",
    "\n",
    "# Verificando se as colunas foram criadas corretamente\n",
    "df\n",
    "\n",
    "## print(cybersecurity_attacks)\n",
    "\n",
    "## PENSAR EM COMO DEIXAR ISSO MAIS DINAMICO, DEPOIS!\n",
    "## Need to be together or it will not save"
   ]
  },
  {
   "cell_type": "raw",
   "id": "3ea31660-7909-4203-af82-e0000bc5b751",
   "metadata": {},
   "source": [
    "## VALUES FOR COMBINATIONS ##\n",
    "firewall = [True, False]\n",
    "ids_ips = [True, False]\n",
    "ioc = [True, False]\n",
    "alert_warning = [True, False]\n",
    "proxy_hidden = [True, False]\n",
    "packet_length_range = [\"< 64\", \"65 - 100\", \"101 - 400\", \"5000 to 10000\"]\n",
    "source_port_range = [\"< 1000\", \"1000 to 5000\", \"5000 to 10000\"]\n",
    "destination_port_range = [\"< 1000\", \"1000 to 5000\", \"5000 to 10000\"]\n",
    "anomaly_score_range = [\"Low\", \"Medium\", \"High\"]\n",
    "Attack Type = [\"Malware\", \"DDoS\", \"Intrusion\"] "
   ]
  },
  {
   "cell_type": "code",
   "execution_count": 23,
   "id": "d36b3694-bc20-45f9-b87b-d8efe346cfd4",
   "metadata": {},
   "outputs": [
    {
     "data": {
      "text/html": [
       "<div>\n",
       "<style scoped>\n",
       "    .dataframe tbody tr th:only-of-type {\n",
       "        vertical-align: middle;\n",
       "    }\n",
       "\n",
       "    .dataframe tbody tr th {\n",
       "        vertical-align: top;\n",
       "    }\n",
       "\n",
       "    .dataframe thead th {\n",
       "        text-align: right;\n",
       "    }\n",
       "</style>\n",
       "<table border=\"1\" class=\"dataframe\">\n",
       "  <thead>\n",
       "    <tr style=\"text-align: right;\">\n",
       "      <th></th>\n",
       "      <th>Timestamp</th>\n",
       "      <th>Source IP Address</th>\n",
       "      <th>Destination IP Address</th>\n",
       "      <th>Source Port</th>\n",
       "      <th>Destination Port</th>\n",
       "      <th>Protocol</th>\n",
       "      <th>Packet Length</th>\n",
       "      <th>Packet Type</th>\n",
       "      <th>Traffic Type</th>\n",
       "      <th>Payload Data</th>\n",
       "      <th>...</th>\n",
       "      <th>IDS/IPS Alerts</th>\n",
       "      <th>Log Source</th>\n",
       "      <th>Firewall Logs Status</th>\n",
       "      <th>IDS/IPS Alerts Status</th>\n",
       "      <th>Malware Indicators Status</th>\n",
       "      <th>Alerts/Warnings Status</th>\n",
       "      <th>Proxy Status</th>\n",
       "      <th>_Packet_Length_Range</th>\n",
       "      <th>Anomaly_Score_Range</th>\n",
       "      <th>ID</th>\n",
       "    </tr>\n",
       "  </thead>\n",
       "  <tbody>\n",
       "    <tr>\n",
       "      <th>0</th>\n",
       "      <td>2023-05-30 06:33:58</td>\n",
       "      <td>103.216.15.12</td>\n",
       "      <td>84.9.164.252</td>\n",
       "      <td>31225</td>\n",
       "      <td>17616</td>\n",
       "      <td>ICMP</td>\n",
       "      <td>503</td>\n",
       "      <td>Data</td>\n",
       "      <td>HTTP</td>\n",
       "      <td>Qui natus odio asperiores nam. Optio nobis ius...</td>\n",
       "      <td>...</td>\n",
       "      <td>NaN</td>\n",
       "      <td>Server</td>\n",
       "      <td>True</td>\n",
       "      <td>False</td>\n",
       "      <td>True</td>\n",
       "      <td>False</td>\n",
       "      <td>False</td>\n",
       "      <td>Medium</td>\n",
       "      <td>Medium</td>\n",
       "      <td>f502ff47-a120-4871-9f4f-03972575e5c9</td>\n",
       "    </tr>\n",
       "    <tr>\n",
       "      <th>1</th>\n",
       "      <td>2020-08-26 07:08:30</td>\n",
       "      <td>78.199.217.198</td>\n",
       "      <td>66.191.137.154</td>\n",
       "      <td>17245</td>\n",
       "      <td>48166</td>\n",
       "      <td>ICMP</td>\n",
       "      <td>1174</td>\n",
       "      <td>Data</td>\n",
       "      <td>HTTP</td>\n",
       "      <td>Aperiam quos modi officiis veritatis rem. Omni...</td>\n",
       "      <td>...</td>\n",
       "      <td>NaN</td>\n",
       "      <td>Firewall</td>\n",
       "      <td>True</td>\n",
       "      <td>False</td>\n",
       "      <td>True</td>\n",
       "      <td>False</td>\n",
       "      <td>False</td>\n",
       "      <td>Very Large</td>\n",
       "      <td>High</td>\n",
       "      <td>fb7eb7b3-2f69-4c86-a63c-baae878f7dcc</td>\n",
       "    </tr>\n",
       "    <tr>\n",
       "      <th>2</th>\n",
       "      <td>2022-11-13 08:23:25</td>\n",
       "      <td>63.79.210.48</td>\n",
       "      <td>198.219.82.17</td>\n",
       "      <td>16811</td>\n",
       "      <td>53600</td>\n",
       "      <td>UDP</td>\n",
       "      <td>306</td>\n",
       "      <td>Control</td>\n",
       "      <td>HTTP</td>\n",
       "      <td>Perferendis sapiente vitae soluta. Hic delectu...</td>\n",
       "      <td>...</td>\n",
       "      <td>Alert Data</td>\n",
       "      <td>Firewall</td>\n",
       "      <td>True</td>\n",
       "      <td>True</td>\n",
       "      <td>True</td>\n",
       "      <td>True</td>\n",
       "      <td>False</td>\n",
       "      <td>Small</td>\n",
       "      <td>Critical</td>\n",
       "      <td>79331871-0596-489f-b103-4a8cd1e2bef9</td>\n",
       "    </tr>\n",
       "    <tr>\n",
       "      <th>3</th>\n",
       "      <td>2023-07-02 10:38:46</td>\n",
       "      <td>163.42.196.10</td>\n",
       "      <td>101.228.192.255</td>\n",
       "      <td>20018</td>\n",
       "      <td>32534</td>\n",
       "      <td>UDP</td>\n",
       "      <td>385</td>\n",
       "      <td>Data</td>\n",
       "      <td>HTTP</td>\n",
       "      <td>Totam maxime beatae expedita explicabo porro l...</td>\n",
       "      <td>...</td>\n",
       "      <td>Alert Data</td>\n",
       "      <td>Firewall</td>\n",
       "      <td>False</td>\n",
       "      <td>True</td>\n",
       "      <td>False</td>\n",
       "      <td>True</td>\n",
       "      <td>False</td>\n",
       "      <td>Small</td>\n",
       "      <td>Low</td>\n",
       "      <td>6b877540-8bb0-4d58-83a4-a404d06fdde9</td>\n",
       "    </tr>\n",
       "    <tr>\n",
       "      <th>4</th>\n",
       "      <td>2023-07-16 13:11:07</td>\n",
       "      <td>71.166.185.76</td>\n",
       "      <td>189.243.174.238</td>\n",
       "      <td>6131</td>\n",
       "      <td>26646</td>\n",
       "      <td>TCP</td>\n",
       "      <td>1462</td>\n",
       "      <td>Data</td>\n",
       "      <td>DNS</td>\n",
       "      <td>Odit nesciunt dolorem nisi iste iusto. Animi v...</td>\n",
       "      <td>...</td>\n",
       "      <td>Alert Data</td>\n",
       "      <td>Firewall</td>\n",
       "      <td>False</td>\n",
       "      <td>True</td>\n",
       "      <td>False</td>\n",
       "      <td>True</td>\n",
       "      <td>False</td>\n",
       "      <td>Very Large</td>\n",
       "      <td>Low</td>\n",
       "      <td>14cf7ccc-e37c-4a95-a582-f9e4e04ffa74</td>\n",
       "    </tr>\n",
       "    <tr>\n",
       "      <th>...</th>\n",
       "      <td>...</td>\n",
       "      <td>...</td>\n",
       "      <td>...</td>\n",
       "      <td>...</td>\n",
       "      <td>...</td>\n",
       "      <td>...</td>\n",
       "      <td>...</td>\n",
       "      <td>...</td>\n",
       "      <td>...</td>\n",
       "      <td>...</td>\n",
       "      <td>...</td>\n",
       "      <td>...</td>\n",
       "      <td>...</td>\n",
       "      <td>...</td>\n",
       "      <td>...</td>\n",
       "      <td>...</td>\n",
       "      <td>...</td>\n",
       "      <td>...</td>\n",
       "      <td>...</td>\n",
       "      <td>...</td>\n",
       "      <td>...</td>\n",
       "    </tr>\n",
       "    <tr>\n",
       "      <th>39995</th>\n",
       "      <td>2023-05-26 14:08:42</td>\n",
       "      <td>26.36.109.26</td>\n",
       "      <td>121.100.75.240</td>\n",
       "      <td>31005</td>\n",
       "      <td>6764</td>\n",
       "      <td>UDP</td>\n",
       "      <td>1428</td>\n",
       "      <td>Control</td>\n",
       "      <td>HTTP</td>\n",
       "      <td>Quibusdam ullam consequatur consequuntur accus...</td>\n",
       "      <td>...</td>\n",
       "      <td>Alert Data</td>\n",
       "      <td>Firewall</td>\n",
       "      <td>True</td>\n",
       "      <td>True</td>\n",
       "      <td>True</td>\n",
       "      <td>False</td>\n",
       "      <td>False</td>\n",
       "      <td>Very Large</td>\n",
       "      <td>Medium</td>\n",
       "      <td>f0c5555b-f1e4-443d-b898-54df3ba47596</td>\n",
       "    </tr>\n",
       "    <tr>\n",
       "      <th>39996</th>\n",
       "      <td>2023-03-27 00:38:27</td>\n",
       "      <td>17.21.163.81</td>\n",
       "      <td>196.108.134.78</td>\n",
       "      <td>2553</td>\n",
       "      <td>28091</td>\n",
       "      <td>UDP</td>\n",
       "      <td>1184</td>\n",
       "      <td>Control</td>\n",
       "      <td>HTTP</td>\n",
       "      <td>Quaerat neque esse. Animi expedita natus commo...</td>\n",
       "      <td>...</td>\n",
       "      <td>NaN</td>\n",
       "      <td>Firewall</td>\n",
       "      <td>True</td>\n",
       "      <td>False</td>\n",
       "      <td>True</td>\n",
       "      <td>False</td>\n",
       "      <td>False</td>\n",
       "      <td>Very Large</td>\n",
       "      <td>Medium</td>\n",
       "      <td>5d29d58d-74a6-4861-8ef1-cb81d6f2d075</td>\n",
       "    </tr>\n",
       "    <tr>\n",
       "      <th>39997</th>\n",
       "      <td>2022-03-31 01:45:49</td>\n",
       "      <td>162.35.217.57</td>\n",
       "      <td>98.107.0.15</td>\n",
       "      <td>22505</td>\n",
       "      <td>25152</td>\n",
       "      <td>UDP</td>\n",
       "      <td>1043</td>\n",
       "      <td>Data</td>\n",
       "      <td>DNS</td>\n",
       "      <td>Enim at aspernatur illum. Saepe numquam eligen...</td>\n",
       "      <td>...</td>\n",
       "      <td>Alert Data</td>\n",
       "      <td>Server</td>\n",
       "      <td>True</td>\n",
       "      <td>True</td>\n",
       "      <td>True</td>\n",
       "      <td>False</td>\n",
       "      <td>False</td>\n",
       "      <td>Large</td>\n",
       "      <td>Medium</td>\n",
       "      <td>a17dcc31-a2fb-4bc2-aca5-b2989a1a21f7</td>\n",
       "    </tr>\n",
       "    <tr>\n",
       "      <th>39998</th>\n",
       "      <td>2023-09-22 18:32:38</td>\n",
       "      <td>208.72.233.205</td>\n",
       "      <td>173.79.112.252</td>\n",
       "      <td>20013</td>\n",
       "      <td>2703</td>\n",
       "      <td>UDP</td>\n",
       "      <td>483</td>\n",
       "      <td>Data</td>\n",
       "      <td>FTP</td>\n",
       "      <td>Officiis dolorem sed harum provident earum dis...</td>\n",
       "      <td>...</td>\n",
       "      <td>NaN</td>\n",
       "      <td>Server</td>\n",
       "      <td>True</td>\n",
       "      <td>False</td>\n",
       "      <td>True</td>\n",
       "      <td>True</td>\n",
       "      <td>False</td>\n",
       "      <td>Medium</td>\n",
       "      <td>Critical</td>\n",
       "      <td>c59e69ce-8280-4747-8a2a-9438659d210c</td>\n",
       "    </tr>\n",
       "    <tr>\n",
       "      <th>39999</th>\n",
       "      <td>2023-10-10 11:59:52</td>\n",
       "      <td>14.102.21.108</td>\n",
       "      <td>109.198.45.7</td>\n",
       "      <td>50137</td>\n",
       "      <td>55575</td>\n",
       "      <td>ICMP</td>\n",
       "      <td>1175</td>\n",
       "      <td>Control</td>\n",
       "      <td>HTTP</td>\n",
       "      <td>Eligendi omnis voluptate nihil voluptatibus do...</td>\n",
       "      <td>...</td>\n",
       "      <td>Alert Data</td>\n",
       "      <td>Firewall</td>\n",
       "      <td>True</td>\n",
       "      <td>True</td>\n",
       "      <td>False</td>\n",
       "      <td>True</td>\n",
       "      <td>False</td>\n",
       "      <td>Very Large</td>\n",
       "      <td>Medium</td>\n",
       "      <td>3a1b55af-66b2-4103-901e-10f104e139f8</td>\n",
       "    </tr>\n",
       "  </tbody>\n",
       "</table>\n",
       "<p>40000 rows × 33 columns</p>\n",
       "</div>"
      ],
      "text/plain": [
       "                 Timestamp Source IP Address Destination IP Address  \\\n",
       "0      2023-05-30 06:33:58     103.216.15.12           84.9.164.252   \n",
       "1      2020-08-26 07:08:30    78.199.217.198         66.191.137.154   \n",
       "2      2022-11-13 08:23:25      63.79.210.48          198.219.82.17   \n",
       "3      2023-07-02 10:38:46     163.42.196.10        101.228.192.255   \n",
       "4      2023-07-16 13:11:07     71.166.185.76        189.243.174.238   \n",
       "...                    ...               ...                    ...   \n",
       "39995  2023-05-26 14:08:42      26.36.109.26         121.100.75.240   \n",
       "39996  2023-03-27 00:38:27      17.21.163.81         196.108.134.78   \n",
       "39997  2022-03-31 01:45:49     162.35.217.57            98.107.0.15   \n",
       "39998  2023-09-22 18:32:38    208.72.233.205         173.79.112.252   \n",
       "39999  2023-10-10 11:59:52     14.102.21.108           109.198.45.7   \n",
       "\n",
       "       Source Port  Destination Port Protocol  Packet Length Packet Type  \\\n",
       "0            31225             17616     ICMP            503        Data   \n",
       "1            17245             48166     ICMP           1174        Data   \n",
       "2            16811             53600      UDP            306     Control   \n",
       "3            20018             32534      UDP            385        Data   \n",
       "4             6131             26646      TCP           1462        Data   \n",
       "...            ...               ...      ...            ...         ...   \n",
       "39995        31005              6764      UDP           1428     Control   \n",
       "39996         2553             28091      UDP           1184     Control   \n",
       "39997        22505             25152      UDP           1043        Data   \n",
       "39998        20013              2703      UDP            483        Data   \n",
       "39999        50137             55575     ICMP           1175     Control   \n",
       "\n",
       "      Traffic Type                                       Payload Data  ...  \\\n",
       "0             HTTP  Qui natus odio asperiores nam. Optio nobis ius...  ...   \n",
       "1             HTTP  Aperiam quos modi officiis veritatis rem. Omni...  ...   \n",
       "2             HTTP  Perferendis sapiente vitae soluta. Hic delectu...  ...   \n",
       "3             HTTP  Totam maxime beatae expedita explicabo porro l...  ...   \n",
       "4              DNS  Odit nesciunt dolorem nisi iste iusto. Animi v...  ...   \n",
       "...            ...                                                ...  ...   \n",
       "39995         HTTP  Quibusdam ullam consequatur consequuntur accus...  ...   \n",
       "39996         HTTP  Quaerat neque esse. Animi expedita natus commo...  ...   \n",
       "39997          DNS  Enim at aspernatur illum. Saepe numquam eligen...  ...   \n",
       "39998          FTP  Officiis dolorem sed harum provident earum dis...  ...   \n",
       "39999         HTTP  Eligendi omnis voluptate nihil voluptatibus do...  ...   \n",
       "\n",
       "      IDS/IPS Alerts  Log Source Firewall Logs Status IDS/IPS Alerts Status  \\\n",
       "0                NaN      Server                 True                 False   \n",
       "1                NaN    Firewall                 True                 False   \n",
       "2         Alert Data    Firewall                 True                  True   \n",
       "3         Alert Data    Firewall                False                  True   \n",
       "4         Alert Data    Firewall                False                  True   \n",
       "...              ...         ...                  ...                   ...   \n",
       "39995     Alert Data    Firewall                 True                  True   \n",
       "39996            NaN    Firewall                 True                 False   \n",
       "39997     Alert Data      Server                 True                  True   \n",
       "39998            NaN      Server                 True                 False   \n",
       "39999     Alert Data    Firewall                 True                  True   \n",
       "\n",
       "      Malware Indicators Status Alerts/Warnings Status Proxy Status  \\\n",
       "0                          True                  False        False   \n",
       "1                          True                  False        False   \n",
       "2                          True                   True        False   \n",
       "3                         False                   True        False   \n",
       "4                         False                   True        False   \n",
       "...                         ...                    ...          ...   \n",
       "39995                      True                  False        False   \n",
       "39996                      True                  False        False   \n",
       "39997                      True                  False        False   \n",
       "39998                      True                   True        False   \n",
       "39999                     False                   True        False   \n",
       "\n",
       "      _Packet_Length_Range Anomaly_Score_Range  \\\n",
       "0                   Medium              Medium   \n",
       "1               Very Large                High   \n",
       "2                    Small            Critical   \n",
       "3                    Small                 Low   \n",
       "4               Very Large                 Low   \n",
       "...                    ...                 ...   \n",
       "39995           Very Large              Medium   \n",
       "39996           Very Large              Medium   \n",
       "39997                Large              Medium   \n",
       "39998               Medium            Critical   \n",
       "39999           Very Large              Medium   \n",
       "\n",
       "                                         ID  \n",
       "0      f502ff47-a120-4871-9f4f-03972575e5c9  \n",
       "1      fb7eb7b3-2f69-4c86-a63c-baae878f7dcc  \n",
       "2      79331871-0596-489f-b103-4a8cd1e2bef9  \n",
       "3      6b877540-8bb0-4d58-83a4-a404d06fdde9  \n",
       "4      14cf7ccc-e37c-4a95-a582-f9e4e04ffa74  \n",
       "...                                     ...  \n",
       "39995  f0c5555b-f1e4-443d-b898-54df3ba47596  \n",
       "39996  5d29d58d-74a6-4861-8ef1-cb81d6f2d075  \n",
       "39997  a17dcc31-a2fb-4bc2-aca5-b2989a1a21f7  \n",
       "39998  c59e69ce-8280-4747-8a2a-9438659d210c  \n",
       "39999  3a1b55af-66b2-4103-901e-10f104e139f8  \n",
       "\n",
       "[40000 rows x 33 columns]"
      ]
     },
     "execution_count": 23,
     "metadata": {},
     "output_type": "execute_result"
    }
   ],
   "source": [
    "import uuid\n",
    "\n",
    "df['ID'] = [uuid.uuid4() for _ in range(len(df))]\n",
    "\n",
    "df"
   ]
  },
  {
   "cell_type": "code",
   "execution_count": null,
   "id": "34c8e8b2-3779-4f85-9212-596b3a2b76c2",
   "metadata": {},
   "outputs": [],
   "source": [
    "# save old one too (if run again)\n",
    "# save a new table only with new columns and id\n",
    "\n",
    "columns_to_save = [\n",
    "    \"ID\",\n",
    "    \"Firewall Logs Status\",\n",
    "    \"IDS/IPS Alerts Status\",\n",
    "    \"Malware Indicators Status\",\n",
    "    \"Alerts/Warnings Status\",\n",
    "    \"Proxy Status\",\n",
    "    \"_Packet_Length_Range\",\n",
    "    \"_Source_Port_Range\",\n",
    "    \"_Destination_Port_Range\",\n",
    "    \"Anomaly_Score_Range\",\n",
    "    \"Attack Type\"\n",
    "]\n",
    "\n",
    "# Criar um novo dataframe apenas com as colunas desejadas\n",
    "df_filtered = df[columns_to_save]\n",
    "\n",
    "# Caminho para salvar o arquivo (altere conforme necessário)\n",
    "output_path = r\"C:\\Users\\isabela.ribeiro\\Desktop\\cybersecurity_filtered.csv\"\n",
    "\n",
    "# Salvar em CSV\n",
    "df_filtered.to_csv(output_path, index=False)\n",
    "\n",
    "print(f\"Arquivo salvo com sucesso em: {output_path}\")\n"
   ]
  },
  {
   "cell_type": "code",
   "execution_count": 25,
   "id": "f30189d4-7ca0-4c2b-827d-f174944d8892",
   "metadata": {},
   "outputs": [
    {
     "ename": "MemoryError",
     "evalue": "",
     "output_type": "error",
     "traceback": [
      "\u001b[1;31m---------------------------------------------------------------------------\u001b[0m",
      "\u001b[1;31mMemoryError\u001b[0m                               Traceback (most recent call last)",
      "Cell \u001b[1;32mIn[25], line 2\u001b[0m\n\u001b[0;32m      1\u001b[0m \u001b[38;5;66;03m# Gerando todas as combinações possíveis com os novos nomes das colunas\u001b[39;00m\n\u001b[1;32m----> 2\u001b[0m combinations \u001b[38;5;241m=\u001b[39m \u001b[38;5;28mlist\u001b[39m(itertools\u001b[38;5;241m.\u001b[39mproduct(\n\u001b[0;32m      3\u001b[0m         df[\u001b[38;5;124m\"\u001b[39m\u001b[38;5;124mAnomaly_Score_Range\u001b[39m\u001b[38;5;124m\"\u001b[39m], \n\u001b[0;32m      4\u001b[0m         df[\u001b[38;5;124m\"\u001b[39m\u001b[38;5;124mAttack Type\u001b[39m\u001b[38;5;124m\"\u001b[39m] \n\u001b[0;32m      5\u001b[0m ))\n\u001b[0;32m      7\u001b[0m \u001b[38;5;66;03m# Exibir algumas combinações para ver se funcionou\u001b[39;00m\n\u001b[0;32m      8\u001b[0m \u001b[38;5;28mprint\u001b[39m(combinations[:\u001b[38;5;241m5\u001b[39m])\n",
      "\u001b[1;31mMemoryError\u001b[0m: "
     ]
    }
   ],
   "source": [
    "# Gerando todas as combinações possíveis com os novos nomes das colunas\n",
    "combinations = list(itertools.product(\n",
    "        df[\"Anomaly_Score_Range\"], \n",
    "        df[\"Attack Type\"] \n",
    "))\n",
    "\n",
    "# Exibir algumas combinações para ver se funcionou\n",
    "print(combinations[:5])  # Exibir as 5 primeiras combinações"
   ]
  },
  {
   "cell_type": "code",
   "execution_count": 19,
   "id": "3033b71a-fa35-46c7-a3ba-482642416455",
   "metadata": {},
   "outputs": [
    {
     "ename": "MemoryError",
     "evalue": "",
     "output_type": "error",
     "traceback": [
      "\u001b[1;31m---------------------------------------------------------------------------\u001b[0m",
      "\u001b[1;31mMemoryError\u001b[0m                               Traceback (most recent call last)",
      "Cell \u001b[1;32mIn[19], line 2\u001b[0m\n\u001b[0;32m      1\u001b[0m \u001b[38;5;66;03m# Gerando todas as combinações possíveis com os novos nomes das colunas\u001b[39;00m\n\u001b[1;32m----> 2\u001b[0m combinations \u001b[38;5;241m=\u001b[39m \u001b[38;5;28mlist\u001b[39m(itertools\u001b[38;5;241m.\u001b[39mproduct(\n\u001b[0;32m      3\u001b[0m         df[\u001b[38;5;124m\"\u001b[39m\u001b[38;5;124mFirewall Logs Status\u001b[39m\u001b[38;5;124m\"\u001b[39m], \n\u001b[0;32m      4\u001b[0m         df[\u001b[38;5;124m\"\u001b[39m\u001b[38;5;124mIDS/IPS Alerts Status\u001b[39m\u001b[38;5;124m\"\u001b[39m], \n\u001b[0;32m      5\u001b[0m         df[\u001b[38;5;124m\"\u001b[39m\u001b[38;5;124mMalware Indicators Status\u001b[39m\u001b[38;5;124m\"\u001b[39m], \n\u001b[0;32m      6\u001b[0m         df[\u001b[38;5;124m\"\u001b[39m\u001b[38;5;124mAlerts/Warnings Status\u001b[39m\u001b[38;5;124m\"\u001b[39m], \n\u001b[0;32m      7\u001b[0m         df[\u001b[38;5;124m\"\u001b[39m\u001b[38;5;124mProxy Status\u001b[39m\u001b[38;5;124m\"\u001b[39m], \n\u001b[0;32m      8\u001b[0m         df[\u001b[38;5;124m\"\u001b[39m\u001b[38;5;124m_Packet_Length_Range\u001b[39m\u001b[38;5;124m\"\u001b[39m],  \n\u001b[0;32m      9\u001b[0m         \u001b[38;5;66;03m# df[\"_Source_Port_Range\"],\u001b[39;00m\n\u001b[0;32m     10\u001b[0m         \u001b[38;5;66;03m# df[\"_Destination_Port_Range\"], \u001b[39;00m\n\u001b[0;32m     11\u001b[0m         df[\u001b[38;5;124m\"\u001b[39m\u001b[38;5;124mAnomaly_Score_Range\u001b[39m\u001b[38;5;124m\"\u001b[39m], \n\u001b[0;32m     12\u001b[0m         df[\u001b[38;5;124m\"\u001b[39m\u001b[38;5;124mAttack Type\u001b[39m\u001b[38;5;124m\"\u001b[39m] \n\u001b[0;32m     13\u001b[0m ))\n\u001b[0;32m     15\u001b[0m \u001b[38;5;66;03m# Exibir algumas combinações para ver se funcionou\u001b[39;00m\n\u001b[0;32m     16\u001b[0m \u001b[38;5;28mprint\u001b[39m(combinations[:\u001b[38;5;241m5\u001b[39m])\n",
      "\u001b[1;31mMemoryError\u001b[0m: "
     ]
    }
   ],
   "source": [
    "# Gerando todas as combinações possíveis com os novos nomes das colunas\n",
    "combinations = list(itertools.product(\n",
    "        df[\"Firewall Logs Status\"], \n",
    "        df[\"IDS/IPS Alerts Status\"], \n",
    "        df[\"Malware Indicators Status\"], \n",
    "        df[\"Alerts/Warnings Status\"], \n",
    "        df[\"Proxy Status\"], \n",
    "        df[\"_Packet_Length_Range\"],  \n",
    "        # df[\"_Source_Port_Range\"],\n",
    "        # df[\"_Destination_Port_Range\"], \n",
    "        # df[\"Anomaly_Score_Range\"], \n",
    "        # df[\"Attack Type\"] \n",
    "))\n",
    "\n",
    "# Exibir algumas combinações para ver se funcionou\n",
    "print(combinations[:5])  # Exibir as 5 primeiras combinações\n",
    "\n",
    "## and if i put it in MariaDB and use sql to run it or even use script but reading from there to skip the limitation from jupyter and the local pc"
   ]
  },
  {
   "cell_type": "code",
   "execution_count": null,
   "id": "9c8c5217-cb96-4604-8ad3-d86582e858e8",
   "metadata": {},
   "outputs": [],
   "source": [
    "# Criando um DataFrame com todas as associações\n",
    "df_combinations = \n",
    "    pd.DataFrame(combinations, \n",
    "                     columns=[\n",
    "                         \"Firewall\", \n",
    "                         \"IDS/IPS\", \n",
    "                         \"IoC Detected\", \n",
    "                         \"Alert/Warning\", \n",
    "                         \"Proxy Hidden\",\n",
    "                         \"Packet Length Range\", \n",
    "                         \"Source Port Range\", \n",
    "                         \"Destination Port Range\", \n",
    "                         \"Anomaly Score Range\", \n",
    "                         \"Attack Type\"\n",
    "                    ]\n",
    "                )"
   ]
  },
  {
   "cell_type": "code",
   "execution_count": null,
   "id": "8acd67e9-dc83-4d34-8ccf-831505ff1711",
   "metadata": {},
   "outputs": [],
   "source": [
    "# Exibir as primeiras linhas para verificar\n",
    "print(df_combinations.head())\n",
    "\n",
    "# Exibindo o DataFrame com as combinações\n",
    "df_combinations.head()"
   ]
  },
  {
   "cell_type": "code",
   "execution_count": null,
   "id": "93b0e3b4-c469-4a67-ad64-c318153f0751",
   "metadata": {},
   "outputs": [],
   "source": [
    "# Salvar para CSV (caso queira visualizar no Excel)\n",
    "df_combinations.to_csv(\"cybersecurity_combinations.csv\", index=False)"
   ]
  }
 ],
 "metadata": {
  "kernelspec": {
   "display_name": "Python 3 (ipykernel)",
   "language": "python",
   "name": "python3"
  },
  "language_info": {
   "codemirror_mode": {
    "name": "ipython",
    "version": 3
   },
   "file_extension": ".py",
   "mimetype": "text/x-python",
   "name": "python",
   "nbconvert_exporter": "python",
   "pygments_lexer": "ipython3",
   "version": "3.12.4"
  }
 },
 "nbformat": 4,
 "nbformat_minor": 5
}
